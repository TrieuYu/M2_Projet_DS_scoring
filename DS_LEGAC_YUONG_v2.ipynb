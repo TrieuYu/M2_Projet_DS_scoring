{
 "cells": [
  {
   "cell_type": "markdown",
   "metadata": {},
   "source": [
    "# Projet DS "
   ]
  },
  {
   "cell_type": "code",
   "execution_count": 299,
   "metadata": {},
   "outputs": [],
   "source": [
    "import numpy as np\n",
    "import pandas as pd\n",
    "import matplotlib.pyplot as plt\n",
    "import seaborn as sns\n",
    "from sklearn.linear_model import LinearRegression\n",
    "from sklearn.feature_selection import VarianceThreshold\n",
    "from scipy import stats\n",
    "%matplotlib inline"
   ]
  },
  {
   "cell_type": "code",
   "execution_count": 300,
   "metadata": {},
   "outputs": [
    {
     "data": {
      "text/html": [
       "<div>\n",
       "<style scoped>\n",
       "    .dataframe tbody tr th:only-of-type {\n",
       "        vertical-align: middle;\n",
       "    }\n",
       "\n",
       "    .dataframe tbody tr th {\n",
       "        vertical-align: top;\n",
       "    }\n",
       "\n",
       "    .dataframe thead th {\n",
       "        text-align: right;\n",
       "    }\n",
       "</style>\n",
       "<table border=\"1\" class=\"dataframe\">\n",
       "  <thead>\n",
       "    <tr style=\"text-align: right;\">\n",
       "      <th></th>\n",
       "      <th>ANC_EMPLOI</th>\n",
       "      <th>STITUATION_FAM</th>\n",
       "      <th>MODE_LOGT</th>\n",
       "      <th>AGE_VEH</th>\n",
       "      <th>VN_VO</th>\n",
       "      <th>MARQUE</th>\n",
       "      <th>PRIX_VEH</th>\n",
       "      <th>MT_APPORT</th>\n",
       "      <th>MT_FINANCE</th>\n",
       "      <th>MT_MENS</th>\n",
       "      <th>VR_BALLON</th>\n",
       "      <th>DUREE_CONTRAT</th>\n",
       "      <th>MT_PREST</th>\n",
       "      <th>MT_ASSUR</th>\n",
       "      <th>mois_gestion</th>\n",
       "      <th>age_cli</th>\n",
       "      <th>anciennete_rci</th>\n",
       "      <th>pc_appo</th>\n",
       "      <th>def12_31</th>\n",
       "    </tr>\n",
       "  </thead>\n",
       "  <tbody>\n",
       "    <tr>\n",
       "      <td>0</td>\n",
       "      <td>65</td>\n",
       "      <td>2</td>\n",
       "      <td>1</td>\n",
       "      <td>NaN</td>\n",
       "      <td>VN</td>\n",
       "      <td>REN</td>\n",
       "      <td>19584.65</td>\n",
       "      <td>0.0</td>\n",
       "      <td>19584.65</td>\n",
       "      <td>95.01</td>\n",
       "      <td>19584.63</td>\n",
       "      <td>6</td>\n",
       "      <td>NaN</td>\n",
       "      <td>NaN</td>\n",
       "      <td>2015-01-03</td>\n",
       "      <td>28</td>\n",
       "      <td>1</td>\n",
       "      <td>0</td>\n",
       "      <td>0</td>\n",
       "    </tr>\n",
       "    <tr>\n",
       "      <td>1</td>\n",
       "      <td>563</td>\n",
       "      <td>11</td>\n",
       "      <td>2</td>\n",
       "      <td>28.0</td>\n",
       "      <td>VO</td>\n",
       "      <td>REN</td>\n",
       "      <td>16995.00</td>\n",
       "      <td>2123.0</td>\n",
       "      <td>14872.00</td>\n",
       "      <td>312.34</td>\n",
       "      <td>NaN</td>\n",
       "      <td>60</td>\n",
       "      <td>150.0</td>\n",
       "      <td>NaN</td>\n",
       "      <td>2014-01-06</td>\n",
       "      <td>64</td>\n",
       "      <td>3</td>\n",
       "      <td>12</td>\n",
       "      <td>0</td>\n",
       "    </tr>\n",
       "    <tr>\n",
       "      <td>2</td>\n",
       "      <td>107</td>\n",
       "      <td>2</td>\n",
       "      <td>2</td>\n",
       "      <td>16.0</td>\n",
       "      <td>VO</td>\n",
       "      <td>REN</td>\n",
       "      <td>19950.00</td>\n",
       "      <td>3869.0</td>\n",
       "      <td>16081.00</td>\n",
       "      <td>329.93</td>\n",
       "      <td>NaN</td>\n",
       "      <td>60</td>\n",
       "      <td>150.0</td>\n",
       "      <td>NaN</td>\n",
       "      <td>2015-01-08</td>\n",
       "      <td>51</td>\n",
       "      <td>3</td>\n",
       "      <td>19</td>\n",
       "      <td>0</td>\n",
       "    </tr>\n",
       "    <tr>\n",
       "      <td>3</td>\n",
       "      <td>143</td>\n",
       "      <td>2</td>\n",
       "      <td>2</td>\n",
       "      <td>10.0</td>\n",
       "      <td>VO</td>\n",
       "      <td>REN</td>\n",
       "      <td>17500.00</td>\n",
       "      <td>7143.5</td>\n",
       "      <td>10356.50</td>\n",
       "      <td>217.51</td>\n",
       "      <td>NaN</td>\n",
       "      <td>60</td>\n",
       "      <td>150.0</td>\n",
       "      <td>NaN</td>\n",
       "      <td>2015-01-04</td>\n",
       "      <td>42</td>\n",
       "      <td>4</td>\n",
       "      <td>41</td>\n",
       "      <td>0</td>\n",
       "    </tr>\n",
       "    <tr>\n",
       "      <td>4</td>\n",
       "      <td>110</td>\n",
       "      <td>2</td>\n",
       "      <td>NaN</td>\n",
       "      <td>7.0</td>\n",
       "      <td>VO</td>\n",
       "      <td>REN</td>\n",
       "      <td>19740.00</td>\n",
       "      <td>3789.4</td>\n",
       "      <td>15950.60</td>\n",
       "      <td>310.33</td>\n",
       "      <td>7523.04</td>\n",
       "      <td>36</td>\n",
       "      <td>150.0</td>\n",
       "      <td>395.0</td>\n",
       "      <td>2015-01-02</td>\n",
       "      <td>34</td>\n",
       "      <td>4</td>\n",
       "      <td>19</td>\n",
       "      <td>0</td>\n",
       "    </tr>\n",
       "  </tbody>\n",
       "</table>\n",
       "</div>"
      ],
      "text/plain": [
       "   ANC_EMPLOI STITUATION_FAM MODE_LOGT  AGE_VEH VN_VO MARQUE  PRIX_VEH  \\\n",
       "0          65              2         1      NaN    VN    REN  19584.65   \n",
       "1         563             11         2     28.0    VO    REN  16995.00   \n",
       "2         107              2         2     16.0    VO    REN  19950.00   \n",
       "3         143              2         2     10.0    VO    REN  17500.00   \n",
       "4         110              2       NaN      7.0    VO    REN  19740.00   \n",
       "\n",
       "   MT_APPORT  MT_FINANCE  MT_MENS  VR_BALLON  DUREE_CONTRAT  MT_PREST  \\\n",
       "0        0.0    19584.65    95.01   19584.63              6       NaN   \n",
       "1     2123.0    14872.00   312.34        NaN             60     150.0   \n",
       "2     3869.0    16081.00   329.93        NaN             60     150.0   \n",
       "3     7143.5    10356.50   217.51        NaN             60     150.0   \n",
       "4     3789.4    15950.60   310.33    7523.04             36     150.0   \n",
       "\n",
       "   MT_ASSUR mois_gestion  age_cli anciennete_rci  pc_appo def12_31  \n",
       "0       NaN   2015-01-03       28              1        0        0  \n",
       "1       NaN   2014-01-06       64              3       12        0  \n",
       "2       NaN   2015-01-08       51              3       19        0  \n",
       "3       NaN   2015-01-04       42              4       41        0  \n",
       "4     395.0   2015-01-02       34              4       19        0  "
      ]
     },
     "execution_count": 300,
     "metadata": {},
     "output_type": "execute_result"
    }
   ],
   "source": [
    "raw_data = pd.read_csv('octroi_RCI.csv', sep = ';', decimal= ',', header=0, parse_dates=['mois_gestion'], dtype = {'STITUATION_FAM':'category', 'MODE_LOGT':'category', 'VN_VO':'category', 'MARQUE':'category', 'anciennete_rci':'category', 'def12_31': 'category'})\n",
    "#help(pd.read_csv)\n",
    "raw_data.head() #(8457, 19)"
   ]
  },
  {
   "cell_type": "code",
   "execution_count": 301,
   "metadata": {},
   "outputs": [
    {
     "name": "stdout",
     "output_type": "stream",
     "text": [
      "<class 'pandas.core.frame.DataFrame'>\n",
      "RangeIndex: 8457 entries, 0 to 8456\n",
      "Data columns (total 19 columns):\n",
      "ANC_EMPLOI        8457 non-null int64\n",
      "STITUATION_FAM    8457 non-null category\n",
      "MODE_LOGT         8349 non-null category\n",
      "AGE_VEH           2454 non-null float64\n",
      "VN_VO             8457 non-null category\n",
      "MARQUE            8457 non-null category\n",
      "PRIX_VEH          8457 non-null float64\n",
      "MT_APPORT         8457 non-null float64\n",
      "MT_FINANCE        8457 non-null float64\n",
      "MT_MENS           8457 non-null float64\n",
      "VR_BALLON         3219 non-null float64\n",
      "DUREE_CONTRAT     8457 non-null int64\n",
      "MT_PREST          7177 non-null float64\n",
      "MT_ASSUR          1702 non-null float64\n",
      "mois_gestion      8457 non-null datetime64[ns]\n",
      "age_cli           8457 non-null int64\n",
      "anciennete_rci    1186 non-null category\n",
      "pc_appo           8457 non-null int64\n",
      "def12_31          8457 non-null category\n",
      "dtypes: category(6), datetime64[ns](1), float64(8), int64(4)\n",
      "memory usage: 910.7 KB\n"
     ]
    }
   ],
   "source": [
    "raw_data.info()"
   ]
  },
  {
   "cell_type": "markdown",
   "metadata": {},
   "source": [
    "## Description du jeu de données \n",
    "\n",
    "### Description des variables \n",
    "\n",
    "On dispose de 19 variables :\n",
    "VARIABLE / SEGMENT / TYPE / EXPECTATION\n",
    "\n",
    "**VARIABLE CIBLE**\n",
    "- **def12_31**: indique si la personne a fait défaut 1=Oui / 0=Non. var. quali. 2mod\n",
    "\n",
    "**FEATURES**\n",
    "\n",
    "Client\n",
    "- **age_cli**: Age du client. N\n",
    "- **ANC_EMPLOI** : Ancienneté à l'emploi. N\n",
    "- **STITUATION_FAM** : Situation familiale. C (6 mods) (1=Marié, 2=Célib, 3=Divorcé, 4=Veuf, 5=Séparé, 11=Colloc)\n",
    "- **MODE_LOGT** : Mode de logement C (4 mods) (1=locataire, 2=proprio, 3=autre, 4=chez les parents)\n",
    "- **anciennete_rci**: Ancienneté relation rci. C (4 mods)\n",
    "- **mois_gestion**: Mois d'entrée en gestion. C\n",
    "\n",
    "Contrat\n",
    "- **pc_appo**: Pourcentage d'apport. N\n",
    "- **MT_APPORT** : Montant de l'apport. N\n",
    "- **MT_FINANCE** : Montant financé. N\n",
    "- **MT_MENS**: Montant de la mensualité. N\n",
    "- **VR_BALLON**: Montant ballon. N\n",
    "- **DUREE_CONTRAT**: Durée du contrat. N\n",
    "- **MT_PREST**:\tMontant des prestations. N\n",
    "- **MT_ASSUR**:\tMontant des assurances. N\n",
    "\n",
    "Véhicule\n",
    "- **PRIX_VEH** : Prix du véhicule. N\n",
    "- **AGE_VEH** : Age du véhicule. N\n",
    "- **MARQUE** : Marque. C\n",
    "- **VN_VO** : Type de véhicule. C (2 mods : VN=véhicule neuf /VO= véhicule occasion)\n",
    "\n",
    "On s'attend à ce que les variables age du client, ancienneté à l'emploi, pourcentage d'apport / montant apport, durée du contrat et prix du véhicule soient les vars. les plus importantes."
   ]
  },
  {
   "cell_type": "markdown",
   "metadata": {},
   "source": [
    "### Etude de la cible \n",
    "\n",
    "\n"
   ]
  },
  {
   "cell_type": "code",
   "execution_count": 302,
   "metadata": {},
   "outputs": [
    {
     "data": {
      "text/html": [
       "<div>\n",
       "<style scoped>\n",
       "    .dataframe tbody tr th:only-of-type {\n",
       "        vertical-align: middle;\n",
       "    }\n",
       "\n",
       "    .dataframe tbody tr th {\n",
       "        vertical-align: top;\n",
       "    }\n",
       "\n",
       "    .dataframe thead tr th {\n",
       "        text-align: left;\n",
       "    }\n",
       "\n",
       "    .dataframe thead tr:last-of-type th {\n",
       "        text-align: right;\n",
       "    }\n",
       "</style>\n",
       "<table border=\"1\" class=\"dataframe\">\n",
       "  <thead>\n",
       "    <tr>\n",
       "      <th></th>\n",
       "      <th>Effectif</th>\n",
       "      <th>Pourcentage</th>\n",
       "    </tr>\n",
       "    <tr>\n",
       "      <th>col_0</th>\n",
       "      <th>count</th>\n",
       "      <th>count</th>\n",
       "    </tr>\n",
       "    <tr>\n",
       "      <th>def12_31</th>\n",
       "      <th></th>\n",
       "      <th></th>\n",
       "    </tr>\n",
       "  </thead>\n",
       "  <tbody>\n",
       "    <tr>\n",
       "      <td>0</td>\n",
       "      <td>8359</td>\n",
       "      <td>99.0</td>\n",
       "    </tr>\n",
       "    <tr>\n",
       "      <td>1</td>\n",
       "      <td>98</td>\n",
       "      <td>1.0</td>\n",
       "    </tr>\n",
       "  </tbody>\n",
       "</table>\n",
       "</div>"
      ],
      "text/plain": [
       "         Effectif Pourcentage\n",
       "col_0       count       count\n",
       "def12_31                     \n",
       "0            8359        99.0\n",
       "1              98         1.0"
      ]
     },
     "execution_count": 302,
     "metadata": {},
     "output_type": "execute_result"
    }
   ],
   "source": [
    "tab_tmp = pd.crosstab(index = raw_data['def12_31'], columns ='count')\n",
    "round(tab_tmp/tab_tmp.sum(),3)\n",
    "pd.concat([tab_tmp,round(tab_tmp/tab_tmp.sum()*100,0)], axis =1, keys= ['Effectif', 'Pourcentage'])"
   ]
  },
  {
   "cell_type": "markdown",
   "metadata": {},
   "source": [
    "On observe que notre jeu de données est particulièrement déséquilibré. Environ 1% de gens ayant fait défaut."
   ]
  },
  {
   "cell_type": "markdown",
   "metadata": {},
   "source": [
    "### Valeurs manquantes\n",
    "\n",
    "A quel point les valeurs sont manquantes ? \n",
    "Est-ce dû au hasard ou est-ce qu'il y a un pattern ? \n"
   ]
  },
  {
   "cell_type": "code",
   "execution_count": 303,
   "metadata": {},
   "outputs": [
    {
     "data": {
      "text/html": [
       "<div>\n",
       "<style scoped>\n",
       "    .dataframe tbody tr th:only-of-type {\n",
       "        vertical-align: middle;\n",
       "    }\n",
       "\n",
       "    .dataframe tbody tr th {\n",
       "        vertical-align: top;\n",
       "    }\n",
       "\n",
       "    .dataframe thead th {\n",
       "        text-align: right;\n",
       "    }\n",
       "</style>\n",
       "<table border=\"1\" class=\"dataframe\">\n",
       "  <thead>\n",
       "    <tr style=\"text-align: right;\">\n",
       "      <th></th>\n",
       "      <th>Total</th>\n",
       "      <th>Percent</th>\n",
       "    </tr>\n",
       "  </thead>\n",
       "  <tbody>\n",
       "    <tr>\n",
       "      <td>anciennete_rci</td>\n",
       "      <td>7271</td>\n",
       "      <td>86.0</td>\n",
       "    </tr>\n",
       "    <tr>\n",
       "      <td>MT_ASSUR</td>\n",
       "      <td>6755</td>\n",
       "      <td>79.9</td>\n",
       "    </tr>\n",
       "    <tr>\n",
       "      <td>AGE_VEH</td>\n",
       "      <td>6003</td>\n",
       "      <td>71.0</td>\n",
       "    </tr>\n",
       "    <tr>\n",
       "      <td>VR_BALLON</td>\n",
       "      <td>5238</td>\n",
       "      <td>61.9</td>\n",
       "    </tr>\n",
       "    <tr>\n",
       "      <td>MT_PREST</td>\n",
       "      <td>1280</td>\n",
       "      <td>15.1</td>\n",
       "    </tr>\n",
       "    <tr>\n",
       "      <td>MODE_LOGT</td>\n",
       "      <td>108</td>\n",
       "      <td>1.3</td>\n",
       "    </tr>\n",
       "  </tbody>\n",
       "</table>\n",
       "</div>"
      ],
      "text/plain": [
       "                Total  Percent\n",
       "anciennete_rci   7271     86.0\n",
       "MT_ASSUR         6755     79.9\n",
       "AGE_VEH          6003     71.0\n",
       "VR_BALLON        5238     61.9\n",
       "MT_PREST         1280     15.1\n",
       "MODE_LOGT         108      1.3"
      ]
     },
     "execution_count": 303,
     "metadata": {},
     "output_type": "execute_result"
    }
   ],
   "source": [
    "total = raw_data.isnull().sum().sort_values(ascending=False)\n",
    "percentage = (round(raw_data.isnull().sum()/raw_data.isnull().count(), 3)*100).sort_values(ascending = False)\n",
    "df_tmp = pd.concat([total, percentage], axis=1, keys=['Total', 'Percent'])\n",
    "df_tmp[df_tmp['Percent'] >0]"
   ]
  },
  {
   "cell_type": "markdown",
   "metadata": {},
   "source": [
    "**QUESTIONS PROF**\n",
    "\n",
    "anciennete_rci : prof = à quoi ça correspond\n",
    "\n",
    "MT_ASSUR : NA par 0 (vérifier qu'on peut ne pas prendre d'ass.)\n",
    "\n",
    "AGE_VEH : remplacer les NA par 0 (car correspondance neuf)\n",
    "\n",
    "VR_BALLON : remplacer les NA par 0\n",
    "\n",
    "MT_PREST : valider que c'est bien des options (auquel cas on remplace NA par 0)\n",
    "\n",
    "\n",
    "**ANCIENNETE_RIC**"
   ]
  },
  {
   "cell_type": "code",
   "execution_count": 304,
   "metadata": {},
   "outputs": [
    {
     "data": {
      "text/plain": [
       "0         1\n",
       "1         3\n",
       "2         3\n",
       "3         4\n",
       "4         4\n",
       "       ... \n",
       "8452    NaN\n",
       "8453    NaN\n",
       "8454    NaN\n",
       "8455    NaN\n",
       "8456    NaN\n",
       "Name: anciennete_rci, Length: 8457, dtype: category\n",
       "Categories (5, object): [0, 1, 2, 3, 4]"
      ]
     },
     "execution_count": 304,
     "metadata": {},
     "output_type": "execute_result"
    }
   ],
   "source": [
    "#Soit on se débarrasse de l'ancienneté RCI soit ?\n",
    "raw_data['anciennete_rci']"
   ]
  },
  {
   "cell_type": "code",
   "execution_count": 305,
   "metadata": {},
   "outputs": [
    {
     "data": {
      "image/png": "[encoded data removed]",
      "text/plain": [
       "<Figure size 432x288 with 1 Axes>"
      ]
     },
     "metadata": {
      "needs_background": "light"
     },
     "output_type": "display_data"
    }
   ],
   "source": [
    "sns.countplot(x='anciennete_rci', data= raw_data);"
   ]
  },
  {
   "cell_type": "code",
   "execution_count": 306,
   "metadata": {},
   "outputs": [
    {
     "data": {
      "text/html": [
       "<div>\n",
       "<style scoped>\n",
       "    .dataframe tbody tr th:only-of-type {\n",
       "        vertical-align: middle;\n",
       "    }\n",
       "\n",
       "    .dataframe tbody tr th {\n",
       "        vertical-align: top;\n",
       "    }\n",
       "\n",
       "    .dataframe thead th {\n",
       "        text-align: right;\n",
       "    }\n",
       "</style>\n",
       "<table border=\"1\" class=\"dataframe\">\n",
       "  <thead>\n",
       "    <tr style=\"text-align: right;\">\n",
       "      <th></th>\n",
       "      <th>Total</th>\n",
       "      <th>Percent</th>\n",
       "    </tr>\n",
       "    <tr>\n",
       "      <th>anciennete_rci</th>\n",
       "      <th></th>\n",
       "      <th></th>\n",
       "    </tr>\n",
       "  </thead>\n",
       "  <tbody>\n",
       "    <tr>\n",
       "      <td>2</td>\n",
       "      <td>383</td>\n",
       "      <td>0.045</td>\n",
       "    </tr>\n",
       "    <tr>\n",
       "      <td>1</td>\n",
       "      <td>358</td>\n",
       "      <td>0.042</td>\n",
       "    </tr>\n",
       "    <tr>\n",
       "      <td>3</td>\n",
       "      <td>233</td>\n",
       "      <td>0.028</td>\n",
       "    </tr>\n",
       "    <tr>\n",
       "      <td>0</td>\n",
       "      <td>191</td>\n",
       "      <td>0.023</td>\n",
       "    </tr>\n",
       "    <tr>\n",
       "      <td>4</td>\n",
       "      <td>21</td>\n",
       "      <td>0.002</td>\n",
       "    </tr>\n",
       "  </tbody>\n",
       "</table>\n",
       "</div>"
      ],
      "text/plain": [
       "                Total  Percent\n",
       "anciennete_rci                \n",
       "2                 383    0.045\n",
       "1                 358    0.042\n",
       "3                 233    0.028\n",
       "0                 191    0.023\n",
       "4                  21    0.002"
      ]
     },
     "execution_count": 306,
     "metadata": {},
     "output_type": "execute_result"
    }
   ],
   "source": [
    "pd.crosstab(raw_data['anciennete_rci'], columns='count').sort_values(by= ['count'], ascending=False)\n",
    "total = raw_data.groupby('anciennete_rci').size().sort_values(ascending=False)\n",
    "percent = round(raw_data.groupby('anciennete_rci').size()/len(raw_data), 3).sort_values(ascending=False)\n",
    "pd.concat([total, percent], axis=1, keys=['Total', 'Percent'])"
   ]
  },
  {
   "cell_type": "markdown",
   "metadata": {},
   "source": [
    "La classe la plus importante fait à peine 5%.\n",
    "*Peut-on remplacer les NA par des valeurs ?*\n",
    "\n",
    "2 solutions possibles à mon sens : \n",
    "\n",
    "1) on se débarrasse de la variable\n",
    "\n",
    "2) on essaie d'inférer les valeurs manquantes à l'aide de la variable 'duree contrat', le mois d'entré en gestion"
   ]
  },
  {
   "cell_type": "code",
   "execution_count": 307,
   "metadata": {},
   "outputs": [
    {
     "data": {
      "text/html": [
       "<div>\n",
       "<style scoped>\n",
       "    .dataframe tbody tr th:only-of-type {\n",
       "        vertical-align: middle;\n",
       "    }\n",
       "\n",
       "    .dataframe tbody tr th {\n",
       "        vertical-align: top;\n",
       "    }\n",
       "\n",
       "    .dataframe thead th {\n",
       "        text-align: right;\n",
       "    }\n",
       "</style>\n",
       "<table border=\"1\" class=\"dataframe\">\n",
       "  <thead>\n",
       "    <tr style=\"text-align: right;\">\n",
       "      <th></th>\n",
       "      <th>DUREE_CONTRAT</th>\n",
       "    </tr>\n",
       "    <tr>\n",
       "      <th>anciennete_rci</th>\n",
       "      <th></th>\n",
       "    </tr>\n",
       "  </thead>\n",
       "  <tbody>\n",
       "    <tr>\n",
       "      <td>0</td>\n",
       "      <td>20.727749</td>\n",
       "    </tr>\n",
       "    <tr>\n",
       "      <td>1</td>\n",
       "      <td>29.100559</td>\n",
       "    </tr>\n",
       "    <tr>\n",
       "      <td>2</td>\n",
       "      <td>43.344648</td>\n",
       "    </tr>\n",
       "    <tr>\n",
       "      <td>3</td>\n",
       "      <td>44.175966</td>\n",
       "    </tr>\n",
       "    <tr>\n",
       "      <td>4</td>\n",
       "      <td>48.571429</td>\n",
       "    </tr>\n",
       "  </tbody>\n",
       "</table>\n",
       "</div>"
      ],
      "text/plain": [
       "                DUREE_CONTRAT\n",
       "anciennete_rci               \n",
       "0                   20.727749\n",
       "1                   29.100559\n",
       "2                   43.344648\n",
       "3                   44.175966\n",
       "4                   48.571429"
      ]
     },
     "execution_count": 307,
     "metadata": {},
     "output_type": "execute_result"
    }
   ],
   "source": [
    "df = raw_data.copy()\n",
    "df[['anciennete_rci', 'DUREE_CONTRAT']].groupby('anciennete_rci').mean()"
   ]
  },
  {
   "cell_type": "code",
   "execution_count": 308,
   "metadata": {},
   "outputs": [
    {
     "data": {
      "image/png": "[encoded data removed]",
      "text/plain": [
       "<Figure size 432x288 with 1 Axes>"
      ]
     },
     "metadata": {
      "needs_background": "light"
     },
     "output_type": "display_data"
    }
   ],
   "source": [
    "#on voit bien que la duree du contrat augmente avec l'anciennete\n",
    "sns.boxplot(x='anciennete_rci', y='DUREE_CONTRAT', data= df);"
   ]
  },
  {
   "cell_type": "markdown",
   "metadata": {},
   "source": [
    "On remarque qu'il a tout de même un certain nombre de clients récents qui se voit accorder un contrat d'une longue durée. Peut être que l'indicateur basé à partir de mois_gestion est utile aussi finalement"
   ]
  },
  {
   "cell_type": "code",
   "execution_count": 309,
   "metadata": {},
   "outputs": [],
   "source": [
    "#clients récents qui se voit accorder un contrat d'une longue durée\n",
    "#df.loc[(df['anciennete_rci']==0) & (df['DUREE_CONTRAT'] > 40)]"
   ]
  },
  {
   "cell_type": "code",
   "execution_count": 310,
   "metadata": {},
   "outputs": [
    {
     "data": {
      "text/html": [
       "<div>\n",
       "<style scoped>\n",
       "    .dataframe tbody tr th:only-of-type {\n",
       "        vertical-align: middle;\n",
       "    }\n",
       "\n",
       "    .dataframe tbody tr th {\n",
       "        vertical-align: top;\n",
       "    }\n",
       "\n",
       "    .dataframe thead th {\n",
       "        text-align: right;\n",
       "    }\n",
       "</style>\n",
       "<table border=\"1\" class=\"dataframe\">\n",
       "  <thead>\n",
       "    <tr style=\"text-align: right;\">\n",
       "      <th></th>\n",
       "      <th>anciennete_rci</th>\n",
       "      <th>DUREE_CONTRAT</th>\n",
       "    </tr>\n",
       "  </thead>\n",
       "  <tbody>\n",
       "    <tr>\n",
       "      <td>770</td>\n",
       "      <td>NaN</td>\n",
       "      <td>24</td>\n",
       "    </tr>\n",
       "    <tr>\n",
       "      <td>825</td>\n",
       "      <td>NaN</td>\n",
       "      <td>6</td>\n",
       "    </tr>\n",
       "    <tr>\n",
       "      <td>826</td>\n",
       "      <td>NaN</td>\n",
       "      <td>6</td>\n",
       "    </tr>\n",
       "    <tr>\n",
       "      <td>827</td>\n",
       "      <td>NaN</td>\n",
       "      <td>6</td>\n",
       "    </tr>\n",
       "    <tr>\n",
       "      <td>938</td>\n",
       "      <td>NaN</td>\n",
       "      <td>6</td>\n",
       "    </tr>\n",
       "    <tr>\n",
       "      <td>...</td>\n",
       "      <td>...</td>\n",
       "      <td>...</td>\n",
       "    </tr>\n",
       "    <tr>\n",
       "      <td>8340</td>\n",
       "      <td>NaN</td>\n",
       "      <td>24</td>\n",
       "    </tr>\n",
       "    <tr>\n",
       "      <td>8353</td>\n",
       "      <td>NaN</td>\n",
       "      <td>12</td>\n",
       "    </tr>\n",
       "    <tr>\n",
       "      <td>8421</td>\n",
       "      <td>NaN</td>\n",
       "      <td>24</td>\n",
       "    </tr>\n",
       "    <tr>\n",
       "      <td>8438</td>\n",
       "      <td>NaN</td>\n",
       "      <td>24</td>\n",
       "    </tr>\n",
       "    <tr>\n",
       "      <td>8456</td>\n",
       "      <td>NaN</td>\n",
       "      <td>6</td>\n",
       "    </tr>\n",
       "  </tbody>\n",
       "</table>\n",
       "<p>354 rows × 2 columns</p>\n",
       "</div>"
      ],
      "text/plain": [
       "     anciennete_rci  DUREE_CONTRAT\n",
       "770             NaN             24\n",
       "825             NaN              6\n",
       "826             NaN              6\n",
       "827             NaN              6\n",
       "938             NaN              6\n",
       "...             ...            ...\n",
       "8340            NaN             24\n",
       "8353            NaN             12\n",
       "8421            NaN             24\n",
       "8438            NaN             24\n",
       "8456            NaN              6\n",
       "\n",
       "[354 rows x 2 columns]"
      ]
     },
     "execution_count": 310,
     "metadata": {},
     "output_type": "execute_result"
    }
   ],
   "source": [
    "df.loc[(df['anciennete_rci'].isna()) & (df['DUREE_CONTRAT'] <= 25), ['anciennete_rci', 'DUREE_CONTRAT']]"
   ]
  },
  {
   "cell_type": "code",
   "execution_count": 311,
   "metadata": {},
   "outputs": [
    {
     "data": {
      "image/png": "[encoded data removed]",
      "text/plain": [
       "<Figure size 432x288 with 1 Axes>"
      ]
     },
     "metadata": {
      "needs_background": "light"
     },
     "output_type": "display_data"
    }
   ],
   "source": [
    "now = pd.to_datetime('15/01/2020')\n",
    "df = df.assign(duree_jour_gestion = (now - df.mois_gestion).dt.days)\n",
    "sns.boxplot(x='anciennete_rci', y='duree_jour_gestion', data= df);"
   ]
  },
  {
   "cell_type": "code",
   "execution_count": 312,
   "metadata": {},
   "outputs": [],
   "source": [
    "df = df.drop('anciennete_rci', axis=1)"
   ]
  },
  {
   "cell_type": "markdown",
   "metadata": {},
   "source": [
    "**MT_ASSUR**"
   ]
  },
  {
   "cell_type": "code",
   "execution_count": 313,
   "metadata": {},
   "outputs": [],
   "source": [
    "df[df['MT_ASSUR'] ==0] #on ne dispose d'aucune ligne dont le montant d'assurance est nul\n",
    "df = df.fillna(value={'MT_ASSUR':0})    #on peut imaginer remplacer les NaN par des zéros"
   ]
  },
  {
   "cell_type": "markdown",
   "metadata": {},
   "source": [
    "**AGE_VEH**\n",
    "\n",
    "On s'aperçoit que les valeurs manquantes correspondent aux véhicules neufs."
   ]
  },
  {
   "cell_type": "code",
   "execution_count": 314,
   "metadata": {},
   "outputs": [
    {
     "data": {
      "text/html": [
       "<div>\n",
       "<style scoped>\n",
       "    .dataframe tbody tr th:only-of-type {\n",
       "        vertical-align: middle;\n",
       "    }\n",
       "\n",
       "    .dataframe tbody tr th {\n",
       "        vertical-align: top;\n",
       "    }\n",
       "\n",
       "    .dataframe thead th {\n",
       "        text-align: right;\n",
       "    }\n",
       "</style>\n",
       "<table border=\"1\" class=\"dataframe\">\n",
       "  <thead>\n",
       "    <tr style=\"text-align: right;\">\n",
       "      <th></th>\n",
       "      <th>AGE_VEH</th>\n",
       "      <th>VN_VO</th>\n",
       "    </tr>\n",
       "  </thead>\n",
       "  <tbody>\n",
       "    <tr>\n",
       "      <td>0</td>\n",
       "      <td>NaN</td>\n",
       "      <td>VN</td>\n",
       "    </tr>\n",
       "    <tr>\n",
       "      <td>1</td>\n",
       "      <td>28.0</td>\n",
       "      <td>VO</td>\n",
       "    </tr>\n",
       "    <tr>\n",
       "      <td>2</td>\n",
       "      <td>16.0</td>\n",
       "      <td>VO</td>\n",
       "    </tr>\n",
       "    <tr>\n",
       "      <td>3</td>\n",
       "      <td>10.0</td>\n",
       "      <td>VO</td>\n",
       "    </tr>\n",
       "    <tr>\n",
       "      <td>4</td>\n",
       "      <td>7.0</td>\n",
       "      <td>VO</td>\n",
       "    </tr>\n",
       "    <tr>\n",
       "      <td>...</td>\n",
       "      <td>...</td>\n",
       "      <td>...</td>\n",
       "    </tr>\n",
       "    <tr>\n",
       "      <td>8452</td>\n",
       "      <td>NaN</td>\n",
       "      <td>VN</td>\n",
       "    </tr>\n",
       "    <tr>\n",
       "      <td>8453</td>\n",
       "      <td>NaN</td>\n",
       "      <td>VN</td>\n",
       "    </tr>\n",
       "    <tr>\n",
       "      <td>8454</td>\n",
       "      <td>NaN</td>\n",
       "      <td>VN</td>\n",
       "    </tr>\n",
       "    <tr>\n",
       "      <td>8455</td>\n",
       "      <td>NaN</td>\n",
       "      <td>VN</td>\n",
       "    </tr>\n",
       "    <tr>\n",
       "      <td>8456</td>\n",
       "      <td>NaN</td>\n",
       "      <td>VN</td>\n",
       "    </tr>\n",
       "  </tbody>\n",
       "</table>\n",
       "<p>8457 rows × 2 columns</p>\n",
       "</div>"
      ],
      "text/plain": [
       "      AGE_VEH VN_VO\n",
       "0         NaN    VN\n",
       "1        28.0    VO\n",
       "2        16.0    VO\n",
       "3        10.0    VO\n",
       "4         7.0    VO\n",
       "...       ...   ...\n",
       "8452      NaN    VN\n",
       "8453      NaN    VN\n",
       "8454      NaN    VN\n",
       "8455      NaN    VN\n",
       "8456      NaN    VN\n",
       "\n",
       "[8457 rows x 2 columns]"
      ]
     },
     "execution_count": 314,
     "metadata": {},
     "output_type": "execute_result"
    }
   ],
   "source": [
    "df[['AGE_VEH', 'VN_VO']]"
   ]
  },
  {
   "cell_type": "code",
   "execution_count": 315,
   "metadata": {},
   "outputs": [],
   "source": [
    "df = df.fillna(value={'AGE_VEH':0})"
   ]
  },
  {
   "cell_type": "markdown",
   "metadata": {},
   "source": [
    "**VR_BALLON**"
   ]
  },
  {
   "cell_type": "code",
   "execution_count": 316,
   "metadata": {},
   "outputs": [],
   "source": [
    "df = df.fillna(value={'VR_BALLON':0})"
   ]
  },
  {
   "cell_type": "markdown",
   "metadata": {},
   "source": [
    "**MT_PREST**"
   ]
  },
  {
   "cell_type": "code",
   "execution_count": 317,
   "metadata": {},
   "outputs": [
    {
     "data": {
      "image/png": "[encoded data removed]",
      "text/plain": [
       "<Figure size 432x288 with 1 Axes>"
      ]
     },
     "metadata": {
      "needs_background": "light"
     },
     "output_type": "display_data"
    }
   ],
   "source": [
    "sns.countplot(x='MT_PREST', data= raw_data);"
   ]
  },
  {
   "cell_type": "code",
   "execution_count": 318,
   "metadata": {},
   "outputs": [
    {
     "data": {
      "text/html": [
       "<div>\n",
       "<style scoped>\n",
       "    .dataframe tbody tr th:only-of-type {\n",
       "        vertical-align: middle;\n",
       "    }\n",
       "\n",
       "    .dataframe tbody tr th {\n",
       "        vertical-align: top;\n",
       "    }\n",
       "\n",
       "    .dataframe thead th {\n",
       "        text-align: right;\n",
       "    }\n",
       "</style>\n",
       "<table border=\"1\" class=\"dataframe\">\n",
       "  <thead>\n",
       "    <tr style=\"text-align: right;\">\n",
       "      <th></th>\n",
       "      <th>Total</th>\n",
       "      <th>Percent</th>\n",
       "    </tr>\n",
       "    <tr>\n",
       "      <th>MT_PREST</th>\n",
       "      <th></th>\n",
       "      <th></th>\n",
       "    </tr>\n",
       "  </thead>\n",
       "  <tbody>\n",
       "    <tr>\n",
       "      <td>75.00</td>\n",
       "      <td>166</td>\n",
       "      <td>0.02</td>\n",
       "    </tr>\n",
       "    <tr>\n",
       "      <td>150.00</td>\n",
       "      <td>6691</td>\n",
       "      <td>0.79</td>\n",
       "    </tr>\n",
       "    <tr>\n",
       "      <td>359.00</td>\n",
       "      <td>39</td>\n",
       "      <td>0.00</td>\n",
       "    </tr>\n",
       "    <tr>\n",
       "      <td>509.00</td>\n",
       "      <td>268</td>\n",
       "      <td>0.03</td>\n",
       "    </tr>\n",
       "    <tr>\n",
       "      <td>529.00</td>\n",
       "      <td>2</td>\n",
       "      <td>0.00</td>\n",
       "    </tr>\n",
       "    <tr>\n",
       "      <td>549.00</td>\n",
       "      <td>3</td>\n",
       "      <td>0.00</td>\n",
       "    </tr>\n",
       "    <tr>\n",
       "      <td>908.00</td>\n",
       "      <td>2</td>\n",
       "      <td>0.00</td>\n",
       "    </tr>\n",
       "    <tr>\n",
       "      <td>948.98</td>\n",
       "      <td>1</td>\n",
       "      <td>0.00</td>\n",
       "    </tr>\n",
       "    <tr>\n",
       "      <td>949.00</td>\n",
       "      <td>1</td>\n",
       "      <td>0.00</td>\n",
       "    </tr>\n",
       "    <tr>\n",
       "      <td>999.00</td>\n",
       "      <td>4</td>\n",
       "      <td>0.00</td>\n",
       "    </tr>\n",
       "  </tbody>\n",
       "</table>\n",
       "</div>"
      ],
      "text/plain": [
       "          Total  Percent\n",
       "MT_PREST                \n",
       "75.00       166     0.02\n",
       "150.00     6691     0.79\n",
       "359.00       39     0.00\n",
       "509.00      268     0.03\n",
       "529.00        2     0.00\n",
       "549.00        3     0.00\n",
       "908.00        2     0.00\n",
       "948.98        1     0.00\n",
       "949.00        1     0.00\n",
       "999.00        4     0.00"
      ]
     },
     "execution_count": 318,
     "metadata": {},
     "output_type": "execute_result"
    }
   ],
   "source": [
    "total = raw_data.groupby('MT_PREST').size()\n",
    "percent = round(raw_data.groupby('MT_PREST').size()/len(raw_data),2) \n",
    "pd.concat([total, percent], axis=1, keys= ['Total', 'Percent'])"
   ]
  },
  {
   "cell_type": "code",
   "execution_count": 319,
   "metadata": {},
   "outputs": [],
   "source": [
    "df = df.fillna(value={'MT_PREST':0})    "
   ]
  },
  {
   "cell_type": "markdown",
   "metadata": {},
   "source": [
    "**MODE_LOGT**"
   ]
  },
  {
   "cell_type": "code",
   "execution_count": 320,
   "metadata": {},
   "outputs": [
    {
     "data": {
      "text/plain": [
       "STITUATION_FAM\n",
       "1     61\n",
       "11     6\n",
       "2     36\n",
       "3      0\n",
       "4      1\n",
       "5      4\n",
       "dtype: int64"
      ]
     },
     "execution_count": 320,
     "metadata": {},
     "output_type": "execute_result"
    }
   ],
   "source": [
    "#rappel : situation_fam  (1=Marié, 2=Célib, 3=Divorcé, 4=Veuf, 5=Séparé, 11=Colloc)\n",
    "#MODE_LOGT Mode de logement C (4 mods) (1=locataire, 2=proprio, 3=autre, 4=chez les parents)\n",
    "df_tmp = df.loc[df['MODE_LOGT'].isna()]\n",
    "#sns.countplot(x='STITUATION_FAM', data=df_tmp);\n",
    "df_tmp.groupby('STITUATION_FAM').size()"
   ]
  },
  {
   "cell_type": "markdown",
   "metadata": {},
   "source": [
    "61 Mariés, \n",
    "36 Célibs"
   ]
  },
  {
   "cell_type": "code",
   "execution_count": 321,
   "metadata": {},
   "outputs": [
    {
     "name": "stdout",
     "output_type": "stream",
     "text": [
      "Stat = 0.363, p = 1.000, donc on rejette pas l hyp d indépendance \n"
     ]
    }
   ],
   "source": [
    "ct = pd.crosstab(df['MODE_LOGT'], df['STITUATION_FAM'], normalize=True)\n",
    "stat, p, dof, exp = stats.chi2_contingency(ct)\n",
    "print('Stat = {0:.3f}, p = {1:.3f}, donc on rejette pas l hyp d indépendance '.format(stat, p))"
   ]
  },
  {
   "cell_type": "markdown",
   "metadata": {},
   "source": [
    "Catégories fortements rpz:\n",
    "63% des inds sont mariés et proprios. Vient ensuite les célib/proprios, les célib/chez les parents, les mariés locataires. \n",
    "\n",
    "vs\n",
    "Catégories très peu représentés :\n",
    "Autre, \n",
    "\n",
    "=> 75% de chance d'être proprio.\n",
    "Intéressant de regarder les profils colonnes"
   ]
  },
  {
   "cell_type": "code",
   "execution_count": 322,
   "metadata": {},
   "outputs": [
    {
     "name": "stdout",
     "output_type": "stream",
     "text": [
      "TABLEAU PROFILS COLONNES\n"
     ]
    },
    {
     "data": {
      "text/html": [
       "<div>\n",
       "<style scoped>\n",
       "    .dataframe tbody tr th:only-of-type {\n",
       "        vertical-align: middle;\n",
       "    }\n",
       "\n",
       "    .dataframe tbody tr th {\n",
       "        vertical-align: top;\n",
       "    }\n",
       "\n",
       "    .dataframe thead th {\n",
       "        text-align: right;\n",
       "    }\n",
       "</style>\n",
       "<table border=\"1\" class=\"dataframe\">\n",
       "  <thead>\n",
       "    <tr style=\"text-align: right;\">\n",
       "      <th>STITUATION_FAM</th>\n",
       "      <th>1</th>\n",
       "      <th>11</th>\n",
       "      <th>2</th>\n",
       "      <th>3</th>\n",
       "      <th>4</th>\n",
       "      <th>5</th>\n",
       "      <th>All</th>\n",
       "    </tr>\n",
       "    <tr>\n",
       "      <th>MODE_LOGT</th>\n",
       "      <th></th>\n",
       "      <th></th>\n",
       "      <th></th>\n",
       "      <th></th>\n",
       "      <th></th>\n",
       "      <th></th>\n",
       "      <th></th>\n",
       "    </tr>\n",
       "  </thead>\n",
       "  <tbody>\n",
       "    <tr>\n",
       "      <td>1</td>\n",
       "      <td>0.102</td>\n",
       "      <td>0.353</td>\n",
       "      <td>0.212</td>\n",
       "      <td>0.223</td>\n",
       "      <td>0.026</td>\n",
       "      <td>0.305</td>\n",
       "      <td>0.137</td>\n",
       "    </tr>\n",
       "    <tr>\n",
       "      <td>2</td>\n",
       "      <td>0.883</td>\n",
       "      <td>0.538</td>\n",
       "      <td>0.379</td>\n",
       "      <td>0.702</td>\n",
       "      <td>0.967</td>\n",
       "      <td>0.627</td>\n",
       "      <td>0.764</td>\n",
       "    </tr>\n",
       "    <tr>\n",
       "      <td>3</td>\n",
       "      <td>0.004</td>\n",
       "      <td>0.058</td>\n",
       "      <td>0.013</td>\n",
       "      <td>0.008</td>\n",
       "      <td>0.000</td>\n",
       "      <td>0.017</td>\n",
       "      <td>0.008</td>\n",
       "    </tr>\n",
       "    <tr>\n",
       "      <td>4</td>\n",
       "      <td>0.011</td>\n",
       "      <td>0.052</td>\n",
       "      <td>0.397</td>\n",
       "      <td>0.066</td>\n",
       "      <td>0.007</td>\n",
       "      <td>0.051</td>\n",
       "      <td>0.091</td>\n",
       "    </tr>\n",
       "  </tbody>\n",
       "</table>\n",
       "</div>"
      ],
      "text/plain": [
       "STITUATION_FAM      1     11      2      3      4      5    All\n",
       "MODE_LOGT                                                      \n",
       "1               0.102  0.353  0.212  0.223  0.026  0.305  0.137\n",
       "2               0.883  0.538  0.379  0.702  0.967  0.627  0.764\n",
       "3               0.004  0.058  0.013  0.008  0.000  0.017  0.008\n",
       "4               0.011  0.052  0.397  0.066  0.007  0.051  0.091"
      ]
     },
     "execution_count": 322,
     "metadata": {},
     "output_type": "execute_result"
    }
   ],
   "source": [
    "#round(ct.apply(lambda col : col / sum(col), axis=0),3)\n",
    "#même chose qu'en dessous !\n",
    "print('TABLEAU PROFILS COLONNES')\n",
    "round(pd.crosstab(df['MODE_LOGT'], df['STITUATION_FAM'], normalize = 'columns', margins=True, dropna=True),3)"
   ]
  },
  {
   "cell_type": "markdown",
   "metadata": {},
   "source": [
    "#rappel : situation_fam  (1=Marié, 2=Célib, 3=Divorcé, 4=Veuf, 5=Séparé, 11=Colloc)\n",
    "#MODE_LOGT Mode de logement C (4 mods) (1=locataire, 2=proprio, 3=autre, 4=chez les parents)\n",
    "\n",
    "1 (61) : Parmi les gens mariés, 88% sont proprios\n",
    "2 (36) : Parmi les gens célibataires, c'est plus compliqué.. 1,2 ou 4..\n",
    "4 (1) : Parmi les veufs, 96% sont proprios \n",
    "5 (4) : Parmi les séparés, env 60% proprios, 30% loc\n",
    "11 (6) : Parmi les colocs, env 55% sont proprios et 35% sont locataires\n",
    "\n",
    "Il y 80% d'être proprio quand on est marié. On décide de remplacer les NA Mode Logt des mariés par proprio et on se débarrasse des autres lignes. "
   ]
  },
  {
   "cell_type": "code",
   "execution_count": 323,
   "metadata": {},
   "outputs": [],
   "source": [
    "df.loc[(df['MODE_LOGT'].isna()) & (df['STITUATION_FAM']=='1'),['MODE_LOGT']] = '2'"
   ]
  },
  {
   "cell_type": "code",
   "execution_count": 324,
   "metadata": {},
   "outputs": [],
   "source": [
    "df.loc[(df['MODE_LOGT'].isna()) & (df['STITUATION_FAM']=='11'),['MODE_LOGT']] = '2'"
   ]
  },
  {
   "cell_type": "code",
   "execution_count": 325,
   "metadata": {},
   "outputs": [],
   "source": [
    "df.loc[(df['MODE_LOGT'].isna()) & (df['STITUATION_FAM']=='4'),['MODE_LOGT']] = '2'"
   ]
  },
  {
   "cell_type": "code",
   "execution_count": 326,
   "metadata": {},
   "outputs": [],
   "source": [
    "df.loc[(df['MODE_LOGT'].isna()) & (df['STITUATION_FAM']=='5'),['MODE_LOGT']] = '2'"
   ]
  },
  {
   "cell_type": "code",
   "execution_count": 327,
   "metadata": {},
   "outputs": [],
   "source": [
    "idx_todelete = df.loc[(df['MODE_LOGT'].isna()) & (df['STITUATION_FAM']=='2'),].index\n",
    "df = df.drop(idx_todelete, axis=0)"
   ]
  },
  {
   "cell_type": "markdown",
   "metadata": {},
   "source": [
    " **VERIFICATION NA**"
   ]
  },
  {
   "cell_type": "code",
   "execution_count": 328,
   "metadata": {},
   "outputs": [
    {
     "data": {
      "text/plain": [
       "(8421, 19)"
      ]
     },
     "execution_count": 328,
     "metadata": {},
     "output_type": "execute_result"
    }
   ],
   "source": [
    "df.shape #vs (8457, 19), on a bien supprimé 36 obs"
   ]
  },
  {
   "cell_type": "code",
   "execution_count": 329,
   "metadata": {},
   "outputs": [
    {
     "data": {
      "text/plain": [
       "duree_jour_gestion    0\n",
       "MT_FINANCE            0\n",
       "STITUATION_FAM        0\n",
       "MODE_LOGT             0\n",
       "AGE_VEH               0\n",
       "VN_VO                 0\n",
       "MARQUE                0\n",
       "PRIX_VEH              0\n",
       "MT_APPORT             0\n",
       "MT_MENS               0\n",
       "def12_31              0\n",
       "VR_BALLON             0\n",
       "DUREE_CONTRAT         0\n",
       "MT_PREST              0\n",
       "MT_ASSUR              0\n",
       "mois_gestion          0\n",
       "age_cli               0\n",
       "pc_appo               0\n",
       "ANC_EMPLOI            0\n",
       "dtype: int64"
      ]
     },
     "execution_count": 329,
     "metadata": {},
     "output_type": "execute_result"
    }
   ],
   "source": [
    "df.isnull().sum().sort_values(ascending=False)"
   ]
  },
  {
   "cell_type": "markdown",
   "metadata": {},
   "source": [
    "### Analyse des variables quantitatives \n",
    "\n",
    "On s'attend à rajouter à notre df 13 nouvelles variables (19 + 13 = 32)"
   ]
  },
  {
   "cell_type": "code",
   "execution_count": 330,
   "metadata": {},
   "outputs": [
    {
     "data": {
      "text/plain": [
       "['ANC_EMPLOI',\n",
       " 'AGE_VEH',\n",
       " 'PRIX_VEH',\n",
       " 'MT_APPORT',\n",
       " 'MT_FINANCE',\n",
       " 'MT_MENS',\n",
       " 'VR_BALLON',\n",
       " 'DUREE_CONTRAT',\n",
       " 'MT_PREST',\n",
       " 'MT_ASSUR',\n",
       " 'age_cli',\n",
       " 'pc_appo',\n",
       " 'duree_jour_gestion']"
      ]
     },
     "execution_count": 330,
     "metadata": {},
     "output_type": "execute_result"
    }
   ],
   "source": [
    "num_feats = df.dtypes[(df.dtypes != 'category')].index\n",
    "num_feats = num_feats.drop('mois_gestion')\n",
    "list(num_feats) #13"
   ]
  },
  {
   "cell_type": "markdown",
   "metadata": {},
   "source": [
    "**ANC EMPLOI**"
   ]
  },
  {
   "cell_type": "code",
   "execution_count": 331,
   "metadata": {},
   "outputs": [
    {
     "data": {
      "image/png": "[encoded data removed]",
      "text/plain": [
       "<Figure size 432x288 with 1 Axes>"
      ]
     },
     "metadata": {
      "needs_background": "light"
     },
     "output_type": "display_data"
    }
   ],
   "source": [
    "sns.distplot(df['ANC_EMPLOI']);"
   ]
  },
  {
   "cell_type": "code",
   "execution_count": 332,
   "metadata": {},
   "outputs": [],
   "source": [
    "df['ANC_EMPLOI_CAT'] = pd.cut(df['ANC_EMPLOI']/12, precision=0, bins= 4)"
   ]
  },
  {
   "cell_type": "code",
   "execution_count": 333,
   "metadata": {},
   "outputs": [
    {
     "data": {
      "text/plain": [
       "ANC_EMPLOI_CAT\n",
       "(0.0, 21.0]     6392\n",
       "(21.0, 41.0]    1638\n",
       "(41.0, 61.0]     375\n",
       "(61.0, 81.0]      16\n",
       "dtype: int64"
      ]
     },
     "execution_count": 333,
     "metadata": {},
     "output_type": "execute_result"
    }
   ],
   "source": [
    "df.groupby('ANC_EMPLOI_CAT').size()"
   ]
  },
  {
   "cell_type": "code",
   "execution_count": null,
   "metadata": {},
   "outputs": [],
   "source": []
  },
  {
   "cell_type": "markdown",
   "metadata": {},
   "source": [
    "**AGE_VEH**"
   ]
  },
  {
   "cell_type": "code",
   "execution_count": 334,
   "metadata": {},
   "outputs": [
    {
     "data": {
      "image/png": "[encoded data removed]",
      "text/plain": [
       "<Figure size 432x288 with 1 Axes>"
      ]
     },
     "metadata": {
      "needs_background": "light"
     },
     "output_type": "display_data"
    }
   ],
   "source": [
    "sns.distplot(df['AGE_VEH']);"
   ]
  },
  {
   "cell_type": "code",
   "execution_count": 335,
   "metadata": {},
   "outputs": [],
   "source": [
    "'''\n",
    "On a une grosse classe env.80%. Mais on a quand même envie de garder l'info \n",
    "'mon véhicule date de 3 ans vs 10 ans'\n",
    "'''\n",
    "df['AGE_VEH_CAT'] = 0\n",
    "#df.loc[df['AGE_VEH'] ==0, ['AGE_VEH_CAT']] = '(0,0]' #6000. \n",
    "df.loc[(df['AGE_VEH'] <= 10), ['AGE_VEH_CAT']] = '(0,10]' #1250\n",
    "df.loc[(df['AGE_VEH'] > 10), ['AGE_VEH_CAT']] = '(10,.]' #1250"
   ]
  },
  {
   "cell_type": "code",
   "execution_count": 336,
   "metadata": {},
   "outputs": [
    {
     "data": {
      "text/html": [
       "<div>\n",
       "<style scoped>\n",
       "    .dataframe tbody tr th:only-of-type {\n",
       "        vertical-align: middle;\n",
       "    }\n",
       "\n",
       "    .dataframe tbody tr th {\n",
       "        vertical-align: top;\n",
       "    }\n",
       "\n",
       "    .dataframe thead th {\n",
       "        text-align: right;\n",
       "    }\n",
       "</style>\n",
       "<table border=\"1\" class=\"dataframe\">\n",
       "  <thead>\n",
       "    <tr style=\"text-align: right;\">\n",
       "      <th></th>\n",
       "      <th>ANC_EMPLOI</th>\n",
       "      <th>STITUATION_FAM</th>\n",
       "      <th>MODE_LOGT</th>\n",
       "      <th>AGE_VEH</th>\n",
       "      <th>VN_VO</th>\n",
       "      <th>MARQUE</th>\n",
       "      <th>PRIX_VEH</th>\n",
       "      <th>MT_APPORT</th>\n",
       "      <th>MT_FINANCE</th>\n",
       "      <th>MT_MENS</th>\n",
       "      <th>...</th>\n",
       "      <th>DUREE_CONTRAT</th>\n",
       "      <th>MT_PREST</th>\n",
       "      <th>MT_ASSUR</th>\n",
       "      <th>mois_gestion</th>\n",
       "      <th>age_cli</th>\n",
       "      <th>pc_appo</th>\n",
       "      <th>def12_31</th>\n",
       "      <th>duree_jour_gestion</th>\n",
       "      <th>ANC_EMPLOI_CAT</th>\n",
       "      <th>AGE_VEH_CAT</th>\n",
       "    </tr>\n",
       "  </thead>\n",
       "  <tbody>\n",
       "    <tr>\n",
       "      <td>0</td>\n",
       "      <td>65</td>\n",
       "      <td>2</td>\n",
       "      <td>1</td>\n",
       "      <td>0.0</td>\n",
       "      <td>VN</td>\n",
       "      <td>REN</td>\n",
       "      <td>19584.65</td>\n",
       "      <td>0.0</td>\n",
       "      <td>19584.65</td>\n",
       "      <td>95.01</td>\n",
       "      <td>...</td>\n",
       "      <td>6</td>\n",
       "      <td>0.0</td>\n",
       "      <td>0.0</td>\n",
       "      <td>2015-01-03</td>\n",
       "      <td>28</td>\n",
       "      <td>0</td>\n",
       "      <td>0</td>\n",
       "      <td>1838</td>\n",
       "      <td>(0.0, 21.0]</td>\n",
       "      <td>(0,10]</td>\n",
       "    </tr>\n",
       "    <tr>\n",
       "      <td>1</td>\n",
       "      <td>563</td>\n",
       "      <td>11</td>\n",
       "      <td>2</td>\n",
       "      <td>28.0</td>\n",
       "      <td>VO</td>\n",
       "      <td>REN</td>\n",
       "      <td>16995.00</td>\n",
       "      <td>2123.0</td>\n",
       "      <td>14872.00</td>\n",
       "      <td>312.34</td>\n",
       "      <td>...</td>\n",
       "      <td>60</td>\n",
       "      <td>150.0</td>\n",
       "      <td>0.0</td>\n",
       "      <td>2014-01-06</td>\n",
       "      <td>64</td>\n",
       "      <td>12</td>\n",
       "      <td>0</td>\n",
       "      <td>2200</td>\n",
       "      <td>(41.0, 61.0]</td>\n",
       "      <td>(10,.]</td>\n",
       "    </tr>\n",
       "    <tr>\n",
       "      <td>2</td>\n",
       "      <td>107</td>\n",
       "      <td>2</td>\n",
       "      <td>2</td>\n",
       "      <td>16.0</td>\n",
       "      <td>VO</td>\n",
       "      <td>REN</td>\n",
       "      <td>19950.00</td>\n",
       "      <td>3869.0</td>\n",
       "      <td>16081.00</td>\n",
       "      <td>329.93</td>\n",
       "      <td>...</td>\n",
       "      <td>60</td>\n",
       "      <td>150.0</td>\n",
       "      <td>0.0</td>\n",
       "      <td>2015-01-08</td>\n",
       "      <td>51</td>\n",
       "      <td>19</td>\n",
       "      <td>0</td>\n",
       "      <td>1833</td>\n",
       "      <td>(0.0, 21.0]</td>\n",
       "      <td>(10,.]</td>\n",
       "    </tr>\n",
       "    <tr>\n",
       "      <td>3</td>\n",
       "      <td>143</td>\n",
       "      <td>2</td>\n",
       "      <td>2</td>\n",
       "      <td>10.0</td>\n",
       "      <td>VO</td>\n",
       "      <td>REN</td>\n",
       "      <td>17500.00</td>\n",
       "      <td>7143.5</td>\n",
       "      <td>10356.50</td>\n",
       "      <td>217.51</td>\n",
       "      <td>...</td>\n",
       "      <td>60</td>\n",
       "      <td>150.0</td>\n",
       "      <td>0.0</td>\n",
       "      <td>2015-01-04</td>\n",
       "      <td>42</td>\n",
       "      <td>41</td>\n",
       "      <td>0</td>\n",
       "      <td>1837</td>\n",
       "      <td>(0.0, 21.0]</td>\n",
       "      <td>(0,10]</td>\n",
       "    </tr>\n",
       "    <tr>\n",
       "      <td>5</td>\n",
       "      <td>446</td>\n",
       "      <td>1</td>\n",
       "      <td>2</td>\n",
       "      <td>0.0</td>\n",
       "      <td>VN</td>\n",
       "      <td>DAC</td>\n",
       "      <td>14900.00</td>\n",
       "      <td>7900.0</td>\n",
       "      <td>7000.00</td>\n",
       "      <td>220.97</td>\n",
       "      <td>...</td>\n",
       "      <td>36</td>\n",
       "      <td>150.0</td>\n",
       "      <td>0.0</td>\n",
       "      <td>2015-01-08</td>\n",
       "      <td>55</td>\n",
       "      <td>53</td>\n",
       "      <td>0</td>\n",
       "      <td>1833</td>\n",
       "      <td>(21.0, 41.0]</td>\n",
       "      <td>(0,10]</td>\n",
       "    </tr>\n",
       "  </tbody>\n",
       "</table>\n",
       "<p>5 rows × 21 columns</p>\n",
       "</div>"
      ],
      "text/plain": [
       "   ANC_EMPLOI STITUATION_FAM MODE_LOGT  AGE_VEH VN_VO MARQUE  PRIX_VEH  \\\n",
       "0          65              2         1      0.0    VN    REN  19584.65   \n",
       "1         563             11         2     28.0    VO    REN  16995.00   \n",
       "2         107              2         2     16.0    VO    REN  19950.00   \n",
       "3         143              2         2     10.0    VO    REN  17500.00   \n",
       "5         446              1         2      0.0    VN    DAC  14900.00   \n",
       "\n",
       "   MT_APPORT  MT_FINANCE  MT_MENS  ...  DUREE_CONTRAT  MT_PREST  MT_ASSUR  \\\n",
       "0        0.0    19584.65    95.01  ...              6       0.0       0.0   \n",
       "1     2123.0    14872.00   312.34  ...             60     150.0       0.0   \n",
       "2     3869.0    16081.00   329.93  ...             60     150.0       0.0   \n",
       "3     7143.5    10356.50   217.51  ...             60     150.0       0.0   \n",
       "5     7900.0     7000.00   220.97  ...             36     150.0       0.0   \n",
       "\n",
       "   mois_gestion age_cli  pc_appo  def12_31 duree_jour_gestion  ANC_EMPLOI_CAT  \\\n",
       "0    2015-01-03      28        0         0               1838     (0.0, 21.0]   \n",
       "1    2014-01-06      64       12         0               2200    (41.0, 61.0]   \n",
       "2    2015-01-08      51       19         0               1833     (0.0, 21.0]   \n",
       "3    2015-01-04      42       41         0               1837     (0.0, 21.0]   \n",
       "5    2015-01-08      55       53         0               1833    (21.0, 41.0]   \n",
       "\n",
       "  AGE_VEH_CAT  \n",
       "0      (0,10]  \n",
       "1      (10,.]  \n",
       "2      (10,.]  \n",
       "3      (0,10]  \n",
       "5      (0,10]  \n",
       "\n",
       "[5 rows x 21 columns]"
      ]
     },
     "execution_count": 336,
     "metadata": {},
     "output_type": "execute_result"
    }
   ],
   "source": [
    "df.head()"
   ]
  },
  {
   "cell_type": "markdown",
   "metadata": {},
   "source": [
    "**PRIX VEHICULE**"
   ]
  },
  {
   "cell_type": "code",
   "execution_count": 337,
   "metadata": {},
   "outputs": [
    {
     "data": {
      "image/png": "[encoded data removed]",
      "text/plain": [
       "<Figure size 432x288 with 1 Axes>"
      ]
     },
     "metadata": {
      "needs_background": "light"
     },
     "output_type": "display_data"
    }
   ],
   "source": [
    "sns.distplot(df['PRIX_VEH']);"
   ]
  },
  {
   "cell_type": "code",
   "execution_count": 338,
   "metadata": {},
   "outputs": [
    {
     "data": {
      "text/plain": [
       "count     8421.0\n",
       "mean     18494.0\n",
       "std       5128.0\n",
       "min       5000.0\n",
       "25%      15000.0\n",
       "50%      18000.0\n",
       "75%      21390.0\n",
       "max      79000.0\n",
       "Name: PRIX_VEH, dtype: float64"
      ]
     },
     "execution_count": 338,
     "metadata": {},
     "output_type": "execute_result"
    }
   ],
   "source": [
    "round(df['PRIX_VEH'].describe(),)"
   ]
  },
  {
   "cell_type": "code",
   "execution_count": 339,
   "metadata": {},
   "outputs": [],
   "source": [
    "df['PRIX_VEH_CAT'] = 0\n",
    "df.loc[df['PRIX_VEH']<=15000, ['PRIX_VEH_CAT']] = '(0, 15000]'\n",
    "df.loc[(df['PRIX_VEH']>15000) & (df['PRIX_VEH']<=18000), ['PRIX_VEH_CAT']] = '(15000, 18000]'\n",
    "df.loc[(df['PRIX_VEH']>18000) & (df['PRIX_VEH']<=21000), ['PRIX_VEH_CAT']] = '(18000, 21000]'\n",
    "df.loc[(df['PRIX_VEH']>21000), ['PRIX_VEH_CAT']] = '(21000, .]'"
   ]
  },
  {
   "cell_type": "code",
   "execution_count": 340,
   "metadata": {},
   "outputs": [
    {
     "data": {
      "text/plain": [
       "PRIX_VEH_CAT\n",
       "(0, 15000]        2133\n",
       "(15000, 18000]    2109\n",
       "(18000, 21000]    1949\n",
       "(21000, .]        2230\n",
       "dtype: int64"
      ]
     },
     "execution_count": 340,
     "metadata": {},
     "output_type": "execute_result"
    }
   ],
   "source": [
    "df.groupby('PRIX_VEH_CAT').size()"
   ]
  },
  {
   "cell_type": "code",
   "execution_count": 341,
   "metadata": {
    "scrolled": true
   },
   "outputs": [
    {
     "data": {
      "image/png": "[encoded data removed]",
      "text/plain": [
       "<Figure size 432x288 with 1 Axes>"
      ]
     },
     "metadata": {
      "needs_background": "light"
     },
     "output_type": "display_data"
    }
   ],
   "source": [
    "sns.countplot(x='PRIX_VEH_CAT', data=df);"
   ]
  },
  {
   "cell_type": "markdown",
   "metadata": {},
   "source": [
    "**MT_APPORT**"
   ]
  },
  {
   "cell_type": "code",
   "execution_count": 342,
   "metadata": {},
   "outputs": [
    {
     "data": {
      "image/png": "[encoded data removed]",
      "text/plain": [
       "<Figure size 432x288 with 1 Axes>"
      ]
     },
     "metadata": {
      "needs_background": "light"
     },
     "output_type": "display_data"
    }
   ],
   "source": [
    "sns.distplot(df['MT_APPORT']);"
   ]
  },
  {
   "cell_type": "code",
   "execution_count": 343,
   "metadata": {},
   "outputs": [
    {
     "data": {
      "text/plain": [
       "count     8421.000000\n",
       "mean      5169.409467\n",
       "std       4051.228765\n",
       "min          0.000000\n",
       "25%       2150.000000\n",
       "50%       4000.000000\n",
       "75%       7000.000000\n",
       "max      39394.000000\n",
       "Name: MT_APPORT, dtype: float64"
      ]
     },
     "execution_count": 343,
     "metadata": {},
     "output_type": "execute_result"
    }
   ],
   "source": [
    "df['MT_APPORT'].describe()"
   ]
  },
  {
   "cell_type": "code",
   "execution_count": 344,
   "metadata": {},
   "outputs": [],
   "source": [
    "df['MT_APPORT_CAT'] = 0\n",
    "df.loc[df['MT_APPORT']<=2000, ['MT_APPORT_CAT']] = '(0, 2000]'\n",
    "df.loc[(df['MT_APPORT']>2000) & (df['MT_APPORT']<=4000), ['MT_APPORT_CAT']] = '(2000, 4000]'\n",
    "df.loc[(df['MT_APPORT']>4000) & (df['MT_APPORT']<=7000), ['MT_APPORT_CAT']] = '(4000, 7000]'\n",
    "df.loc[(df['MT_APPORT']>7000), ['MT_APPORT_CAT']] = '(7000, .]'"
   ]
  },
  {
   "cell_type": "code",
   "execution_count": 345,
   "metadata": {},
   "outputs": [
    {
     "data": {
      "text/plain": [
       "MT_APPORT_CAT\n",
       "(0, 2000]       1981\n",
       "(2000, 4000]    2354\n",
       "(4000, 7000]    2016\n",
       "(7000, .]       2070\n",
       "dtype: int64"
      ]
     },
     "execution_count": 345,
     "metadata": {},
     "output_type": "execute_result"
    }
   ],
   "source": [
    "df.groupby('MT_APPORT_CAT').size()"
   ]
  },
  {
   "cell_type": "markdown",
   "metadata": {},
   "source": [
    "**MT_FINANCE**"
   ]
  },
  {
   "cell_type": "code",
   "execution_count": 346,
   "metadata": {},
   "outputs": [
    {
     "data": {
      "image/png": "[encoded data removed]",
      "text/plain": [
       "<Figure size 432x288 with 1 Axes>"
      ]
     },
     "metadata": {
      "needs_background": "light"
     },
     "output_type": "display_data"
    }
   ],
   "source": [
    "sns.distplot(df['MT_FINANCE']);"
   ]
  },
  {
   "cell_type": "code",
   "execution_count": 347,
   "metadata": {},
   "outputs": [
    {
     "data": {
      "text/plain": [
       "count     8421.000000\n",
       "mean     13324.817436\n",
       "std       4661.650546\n",
       "min       3350.000000\n",
       "25%      10110.000000\n",
       "50%      12951.000000\n",
       "75%      16335.000000\n",
       "max      59000.000000\n",
       "Name: MT_FINANCE, dtype: float64"
      ]
     },
     "execution_count": 347,
     "metadata": {},
     "output_type": "execute_result"
    }
   ],
   "source": [
    "df['MT_FINANCE'].describe()"
   ]
  },
  {
   "cell_type": "code",
   "execution_count": 348,
   "metadata": {},
   "outputs": [],
   "source": [
    "df['MT_FINANCE_CAT'] = 0\n",
    "df.loc[df['MT_FINANCE']<=10000, ['MT_FINANCE_CAT']] = '(0, 10000]'\n",
    "df.loc[(df['MT_FINANCE']>10000) & (df['MT_FINANCE']<=13000), ['MT_FINANCE_CAT']] = '(10000, 13000]'\n",
    "df.loc[(df['MT_FINANCE']>13000) & (df['MT_FINANCE']<=16000), ['MT_FINANCE_CAT']] = '(10000, 16000]'\n",
    "df.loc[(df['MT_FINANCE']>16000), ['MT_FINANCE_CAT']] = '(16000, .]'"
   ]
  },
  {
   "cell_type": "code",
   "execution_count": 349,
   "metadata": {},
   "outputs": [
    {
     "data": {
      "text/plain": [
       "MT_FINANCE_CAT\n",
       "(0, 10000]        2024\n",
       "(10000, 13000]    2300\n",
       "(10000, 16000]    1858\n",
       "(16000, .]        2239\n",
       "dtype: int64"
      ]
     },
     "execution_count": 349,
     "metadata": {},
     "output_type": "execute_result"
    }
   ],
   "source": [
    "df.groupby('MT_FINANCE_CAT').size()"
   ]
  },
  {
   "cell_type": "code",
   "execution_count": 350,
   "metadata": {},
   "outputs": [],
   "source": [
    "for name in ['ANC_EMPLOI_CAT', 'AGE_VEH_CAT', 'PRIX_VEH_CAT', 'MT_APPORT_CAT', 'MT_FINANCE_CAT']:\n",
    "    df[name] = pd.Categorical(df[name])"
   ]
  },
  {
   "cell_type": "markdown",
   "metadata": {},
   "source": [
    "**From MT_MENS to pc_appo**"
   ]
  },
  {
   "cell_type": "code",
   "execution_count": 351,
   "metadata": {},
   "outputs": [],
   "source": [
    "for col in list(num_feats):\n",
    "    df[col +'_CAT'] = pd.cut(df[col], precision=0, bins= 4) \n",
    "    df[col + '_CAT'] = pd.Categorical(df[col+ '_CAT'])"
   ]
  },
  {
   "cell_type": "code",
   "execution_count": 352,
   "metadata": {},
   "outputs": [
    {
     "data": {
      "text/html": [
       "<div>\n",
       "<style scoped>\n",
       "    .dataframe tbody tr th:only-of-type {\n",
       "        vertical-align: middle;\n",
       "    }\n",
       "\n",
       "    .dataframe tbody tr th {\n",
       "        vertical-align: top;\n",
       "    }\n",
       "\n",
       "    .dataframe thead th {\n",
       "        text-align: right;\n",
       "    }\n",
       "</style>\n",
       "<table border=\"1\" class=\"dataframe\">\n",
       "  <thead>\n",
       "    <tr style=\"text-align: right;\">\n",
       "      <th></th>\n",
       "      <th>ANC_EMPLOI</th>\n",
       "      <th>STITUATION_FAM</th>\n",
       "      <th>MODE_LOGT</th>\n",
       "      <th>AGE_VEH</th>\n",
       "      <th>VN_VO</th>\n",
       "      <th>MARQUE</th>\n",
       "      <th>PRIX_VEH</th>\n",
       "      <th>MT_APPORT</th>\n",
       "      <th>MT_FINANCE</th>\n",
       "      <th>MT_MENS</th>\n",
       "      <th>...</th>\n",
       "      <th>MT_APPORT_CAT</th>\n",
       "      <th>MT_FINANCE_CAT</th>\n",
       "      <th>MT_MENS_CAT</th>\n",
       "      <th>VR_BALLON_CAT</th>\n",
       "      <th>DUREE_CONTRAT_CAT</th>\n",
       "      <th>MT_PREST_CAT</th>\n",
       "      <th>MT_ASSUR_CAT</th>\n",
       "      <th>age_cli_CAT</th>\n",
       "      <th>pc_appo_CAT</th>\n",
       "      <th>duree_jour_gestion_CAT</th>\n",
       "    </tr>\n",
       "  </thead>\n",
       "  <tbody>\n",
       "    <tr>\n",
       "      <td>0</td>\n",
       "      <td>65</td>\n",
       "      <td>2</td>\n",
       "      <td>1</td>\n",
       "      <td>0.0</td>\n",
       "      <td>VN</td>\n",
       "      <td>REN</td>\n",
       "      <td>19584.65</td>\n",
       "      <td>0.0</td>\n",
       "      <td>19584.65</td>\n",
       "      <td>95.01</td>\n",
       "      <td>...</td>\n",
       "      <td>(-39.0, 9848.0]</td>\n",
       "      <td>(17262.0, 31175.0]</td>\n",
       "      <td>(54.0, 592.0]</td>\n",
       "      <td>(13679.0, 20518.0]</td>\n",
       "      <td>(5.0, 19.0]</td>\n",
       "      <td>(-1.0, 250.0]</td>\n",
       "      <td>(-2.0, 509.0]</td>\n",
       "      <td>(19.0, 36.0]</td>\n",
       "      <td>(-0.1, 21.0]</td>\n",
       "      <td>(1830.0, 1924.0]</td>\n",
       "    </tr>\n",
       "    <tr>\n",
       "      <td>1</td>\n",
       "      <td>563</td>\n",
       "      <td>11</td>\n",
       "      <td>2</td>\n",
       "      <td>28.0</td>\n",
       "      <td>VO</td>\n",
       "      <td>REN</td>\n",
       "      <td>16995.00</td>\n",
       "      <td>2123.0</td>\n",
       "      <td>14872.00</td>\n",
       "      <td>312.34</td>\n",
       "      <td>...</td>\n",
       "      <td>(-39.0, 9848.0]</td>\n",
       "      <td>(3294.0, 17262.0]</td>\n",
       "      <td>(54.0, 592.0]</td>\n",
       "      <td>(-27.0, 6839.0]</td>\n",
       "      <td>(46.0, 60.0]</td>\n",
       "      <td>(-1.0, 250.0]</td>\n",
       "      <td>(-2.0, 509.0]</td>\n",
       "      <td>(52.0, 68.0]</td>\n",
       "      <td>(-0.1, 21.0]</td>\n",
       "      <td>(2111.0, 2205.0]</td>\n",
       "    </tr>\n",
       "    <tr>\n",
       "      <td>2</td>\n",
       "      <td>107</td>\n",
       "      <td>2</td>\n",
       "      <td>2</td>\n",
       "      <td>16.0</td>\n",
       "      <td>VO</td>\n",
       "      <td>REN</td>\n",
       "      <td>19950.00</td>\n",
       "      <td>3869.0</td>\n",
       "      <td>16081.00</td>\n",
       "      <td>329.93</td>\n",
       "      <td>...</td>\n",
       "      <td>(-39.0, 9848.0]</td>\n",
       "      <td>(3294.0, 17262.0]</td>\n",
       "      <td>(54.0, 592.0]</td>\n",
       "      <td>(-27.0, 6839.0]</td>\n",
       "      <td>(46.0, 60.0]</td>\n",
       "      <td>(-1.0, 250.0]</td>\n",
       "      <td>(-2.0, 509.0]</td>\n",
       "      <td>(36.0, 52.0]</td>\n",
       "      <td>(-0.1, 21.0]</td>\n",
       "      <td>(1830.0, 1924.0]</td>\n",
       "    </tr>\n",
       "    <tr>\n",
       "      <td>3</td>\n",
       "      <td>143</td>\n",
       "      <td>2</td>\n",
       "      <td>2</td>\n",
       "      <td>10.0</td>\n",
       "      <td>VO</td>\n",
       "      <td>REN</td>\n",
       "      <td>17500.00</td>\n",
       "      <td>7143.5</td>\n",
       "      <td>10356.50</td>\n",
       "      <td>217.51</td>\n",
       "      <td>...</td>\n",
       "      <td>(-39.0, 9848.0]</td>\n",
       "      <td>(3294.0, 17262.0]</td>\n",
       "      <td>(54.0, 592.0]</td>\n",
       "      <td>(-27.0, 6839.0]</td>\n",
       "      <td>(46.0, 60.0]</td>\n",
       "      <td>(-1.0, 250.0]</td>\n",
       "      <td>(-2.0, 509.0]</td>\n",
       "      <td>(36.0, 52.0]</td>\n",
       "      <td>(21.0, 42.0]</td>\n",
       "      <td>(1830.0, 1924.0]</td>\n",
       "    </tr>\n",
       "    <tr>\n",
       "      <td>5</td>\n",
       "      <td>446</td>\n",
       "      <td>1</td>\n",
       "      <td>2</td>\n",
       "      <td>0.0</td>\n",
       "      <td>VN</td>\n",
       "      <td>DAC</td>\n",
       "      <td>14900.00</td>\n",
       "      <td>7900.0</td>\n",
       "      <td>7000.00</td>\n",
       "      <td>220.97</td>\n",
       "      <td>...</td>\n",
       "      <td>(-39.0, 9848.0]</td>\n",
       "      <td>(3294.0, 17262.0]</td>\n",
       "      <td>(54.0, 592.0]</td>\n",
       "      <td>(-27.0, 6839.0]</td>\n",
       "      <td>(32.0, 46.0]</td>\n",
       "      <td>(-1.0, 250.0]</td>\n",
       "      <td>(-2.0, 509.0]</td>\n",
       "      <td>(52.0, 68.0]</td>\n",
       "      <td>(42.0, 63.0]</td>\n",
       "      <td>(1830.0, 1924.0]</td>\n",
       "    </tr>\n",
       "  </tbody>\n",
       "</table>\n",
       "<p>5 rows × 32 columns</p>\n",
       "</div>"
      ],
      "text/plain": [
       "   ANC_EMPLOI STITUATION_FAM MODE_LOGT  AGE_VEH VN_VO MARQUE  PRIX_VEH  \\\n",
       "0          65              2         1      0.0    VN    REN  19584.65   \n",
       "1         563             11         2     28.0    VO    REN  16995.00   \n",
       "2         107              2         2     16.0    VO    REN  19950.00   \n",
       "3         143              2         2     10.0    VO    REN  17500.00   \n",
       "5         446              1         2      0.0    VN    DAC  14900.00   \n",
       "\n",
       "   MT_APPORT  MT_FINANCE  MT_MENS  ...    MT_APPORT_CAT      MT_FINANCE_CAT  \\\n",
       "0        0.0    19584.65    95.01  ...  (-39.0, 9848.0]  (17262.0, 31175.0]   \n",
       "1     2123.0    14872.00   312.34  ...  (-39.0, 9848.0]   (3294.0, 17262.0]   \n",
       "2     3869.0    16081.00   329.93  ...  (-39.0, 9848.0]   (3294.0, 17262.0]   \n",
       "3     7143.5    10356.50   217.51  ...  (-39.0, 9848.0]   (3294.0, 17262.0]   \n",
       "5     7900.0     7000.00   220.97  ...  (-39.0, 9848.0]   (3294.0, 17262.0]   \n",
       "\n",
       "     MT_MENS_CAT       VR_BALLON_CAT DUREE_CONTRAT_CAT   MT_PREST_CAT  \\\n",
       "0  (54.0, 592.0]  (13679.0, 20518.0]       (5.0, 19.0]  (-1.0, 250.0]   \n",
       "1  (54.0, 592.0]     (-27.0, 6839.0]      (46.0, 60.0]  (-1.0, 250.0]   \n",
       "2  (54.0, 592.0]     (-27.0, 6839.0]      (46.0, 60.0]  (-1.0, 250.0]   \n",
       "3  (54.0, 592.0]     (-27.0, 6839.0]      (46.0, 60.0]  (-1.0, 250.0]   \n",
       "5  (54.0, 592.0]     (-27.0, 6839.0]      (32.0, 46.0]  (-1.0, 250.0]   \n",
       "\n",
       "    MT_ASSUR_CAT   age_cli_CAT   pc_appo_CAT duree_jour_gestion_CAT  \n",
       "0  (-2.0, 509.0]  (19.0, 36.0]  (-0.1, 21.0]       (1830.0, 1924.0]  \n",
       "1  (-2.0, 509.0]  (52.0, 68.0]  (-0.1, 21.0]       (2111.0, 2205.0]  \n",
       "2  (-2.0, 509.0]  (36.0, 52.0]  (-0.1, 21.0]       (1830.0, 1924.0]  \n",
       "3  (-2.0, 509.0]  (36.0, 52.0]  (21.0, 42.0]       (1830.0, 1924.0]  \n",
       "5  (-2.0, 509.0]  (52.0, 68.0]  (42.0, 63.0]       (1830.0, 1924.0]  \n",
       "\n",
       "[5 rows x 32 columns]"
      ]
     },
     "execution_count": 352,
     "metadata": {},
     "output_type": "execute_result"
    }
   ],
   "source": [
    "df.head() #(8421, 32)"
   ]
  },
  {
   "cell_type": "code",
   "execution_count": 353,
   "metadata": {},
   "outputs": [
    {
     "name": "stdout",
     "output_type": "stream",
     "text": [
      "<class 'pandas.core.frame.DataFrame'>\n",
      "Int64Index: 8421 entries, 0 to 8456\n",
      "Data columns (total 32 columns):\n",
      "ANC_EMPLOI                8421 non-null int64\n",
      "STITUATION_FAM            8421 non-null category\n",
      "MODE_LOGT                 8421 non-null category\n",
      "AGE_VEH                   8421 non-null float64\n",
      "VN_VO                     8421 non-null category\n",
      "MARQUE                    8421 non-null category\n",
      "PRIX_VEH                  8421 non-null float64\n",
      "MT_APPORT                 8421 non-null float64\n",
      "MT_FINANCE                8421 non-null float64\n",
      "MT_MENS                   8421 non-null float64\n",
      "VR_BALLON                 8421 non-null float64\n",
      "DUREE_CONTRAT             8421 non-null int64\n",
      "MT_PREST                  8421 non-null float64\n",
      "MT_ASSUR                  8421 non-null float64\n",
      "mois_gestion              8421 non-null datetime64[ns]\n",
      "age_cli                   8421 non-null int64\n",
      "pc_appo                   8421 non-null int64\n",
      "def12_31                  8421 non-null category\n",
      "duree_jour_gestion        8421 non-null int64\n",
      "ANC_EMPLOI_CAT            8421 non-null category\n",
      "AGE_VEH_CAT               8421 non-null category\n",
      "PRIX_VEH_CAT              8421 non-null category\n",
      "MT_APPORT_CAT             8421 non-null category\n",
      "MT_FINANCE_CAT            8421 non-null category\n",
      "MT_MENS_CAT               8421 non-null category\n",
      "VR_BALLON_CAT             8421 non-null category\n",
      "DUREE_CONTRAT_CAT         8421 non-null category\n",
      "MT_PREST_CAT              8421 non-null category\n",
      "MT_ASSUR_CAT              8421 non-null category\n",
      "age_cli_CAT               8421 non-null category\n",
      "pc_appo_CAT               8421 non-null category\n",
      "duree_jour_gestion_CAT    8421 non-null category\n",
      "dtypes: category(18), datetime64[ns](1), float64(8), int64(5)\n",
      "memory usage: 1.4 MB\n"
     ]
    }
   ],
   "source": [
    "df.info()"
   ]
  },
  {
   "cell_type": "markdown",
   "metadata": {},
   "source": [
    "## Tableaux Profils Colonne"
   ]
  },
  {
   "cell_type": "markdown",
   "metadata": {},
   "source": [
    "On dispose désormais de **17** variables qualitatives à étudier"
   ]
  },
  {
   "cell_type": "code",
   "execution_count": 354,
   "metadata": {},
   "outputs": [
    {
     "data": {
      "text/plain": [
       "['STITUATION_FAM',\n",
       " 'MODE_LOGT',\n",
       " 'VN_VO',\n",
       " 'MARQUE',\n",
       " 'ANC_EMPLOI_CAT',\n",
       " 'AGE_VEH_CAT',\n",
       " 'PRIX_VEH_CAT',\n",
       " 'MT_APPORT_CAT',\n",
       " 'MT_FINANCE_CAT',\n",
       " 'MT_MENS_CAT',\n",
       " 'VR_BALLON_CAT',\n",
       " 'DUREE_CONTRAT_CAT',\n",
       " 'MT_PREST_CAT',\n",
       " 'MT_ASSUR_CAT',\n",
       " 'age_cli_CAT',\n",
       " 'pc_appo_CAT',\n",
       " 'duree_jour_gestion_CAT']"
      ]
     },
     "execution_count": 354,
     "metadata": {},
     "output_type": "execute_result"
    }
   ],
   "source": [
    "#num_feats = df.dtypes[df.dtypes != 'category'].index\n",
    "cat_feats = df.dtypes[df.dtypes == 'category'].index\n",
    "cat_feats = cat_feats.drop('def12_31')\n",
    "list(cat_feats)"
   ]
  },
  {
   "cell_type": "markdown",
   "metadata": {},
   "source": [
    "On créer 2 fonctions pour nous permettre d'afficher les deux tableaux profils / colonne"
   ]
  },
  {
   "cell_type": "code",
   "execution_count": 355,
   "metadata": {},
   "outputs": [],
   "source": [
    "#Pour afficher deux tableaux en même temps\n",
    "from IPython.display import display_html\n",
    "def display_side_by_side(*args):\n",
    "    html_str=''\n",
    "    for df in args:\n",
    "        html_str+=df.to_html()\n",
    "    display_html(html_str.replace('table','table style=\"display:inline\"'),raw=True)"
   ]
  },
  {
   "cell_type": "code",
   "execution_count": 356,
   "metadata": {},
   "outputs": [],
   "source": [
    "def comparer_cible(name):\n",
    "    d1 = pd.crosstab(df.loc[df['def12_31']=='0', name], df.loc[df['def12_31']=='0','def12_31'])\n",
    "    d2 = round(pd.crosstab(df.loc[df['def12_31']=='0', name], df.loc[df['def12_31']=='0','def12_31'], normalize='columns'),2)*100\n",
    "\n",
    "    d3 = pd.crosstab(df.loc[df['def12_31']=='1', name], df.loc[df['def12_31']=='1','def12_31'])\n",
    "    d4 = round(pd.crosstab(df.loc[df['def12_31']=='1', name], df.loc[df['def12_31']=='1','def12_31'], normalize='columns'),2)*100\n",
    "    \n",
    "    df_tmp1 = pd.concat([d1,d2], axis=1, keys=['Effectif', 'Pourcentage'])\n",
    "    df_tmp2 = pd.concat([d3,d4], axis=1, keys=['Effectif', 'Pourcentage'])\n",
    "    \n",
    "    display_side_by_side(df_tmp1, df_tmp2)\n",
    "\n",
    "def afficher_chi2(name, df):\n",
    "    df_tmp = pd.crosstab(df[name], df['def12_31'])\n",
    "    stat, p, df , exp = stats.chi2_contingency(df_tmp)\n",
    "    #print('Test {0}, stat= {1:.0f}, p = {2}'.format(name, stat, p))\n",
    "    return [stat, p]"
   ]
  },
  {
   "cell_type": "code",
   "execution_count": 410,
   "metadata": {},
   "outputs": [],
   "source": [
    "def comparer_2dist(name_var,df,x=0):\n",
    "    df0 = df.loc[df['def12_31']=='0', ]\n",
    "    df1 = df.loc[df['def12_31']=='1', ]\n",
    "\n",
    "    fig, ax = plt.subplots()\n",
    "    sns.distplot(df0[name_var], hist=False, rug=True, color='b')\n",
    "    sns.distplot(df1[name_var], hist=False,rug=True, color='r')\n",
    "    ax.legend(('0', '1'), loc='upper right')\n",
    "    ax.set_xlabel(name_var)\n",
    "    ax.axvline(x);"
   ]
  },
  {
   "cell_type": "code",
   "execution_count": 357,
   "metadata": {},
   "outputs": [
    {
     "name": "stdout",
     "output_type": "stream",
     "text": [
      "Test STITUATION_FAM, stat= 109, p = 5.927563509555127e-11\n",
      "Test MODE_LOGT, stat= 48, p = 2.475753785157915e-10\n",
      "Test VN_VO, stat= 42, p = 5.000030164998796e-09\n",
      "Test MARQUE, stat= 37, p = 4.530425322578564e-08\n",
      "Test ANC_EMPLOI_CAT, stat= 35, p = 3.334369261546793e-09\n",
      "Test AGE_VEH_CAT, stat= 34, p = 2.7697158382887374e-06\n",
      "Test PRIX_VEH_CAT, stat= 32, p = 6.333019002402366e-07\n",
      "Test MT_APPORT_CAT, stat= 28, p = 3.327593260055997e-06\n",
      "Test MT_FINANCE_CAT, stat= 13, p = 0.0038942699690088256\n",
      "Test MT_MENS_CAT, stat= 13, p = 0.004626344730237954\n",
      "Test VR_BALLON_CAT, stat= 11, p = 0.010905613713833352\n",
      "Test DUREE_CONTRAT_CAT, stat= 11, p = 0.013215175174174877\n",
      "Test MT_PREST_CAT, stat= 9, p = 0.03195899732411066\n",
      "Test MT_ASSUR_CAT, stat= 4, p = 0.22982422330209307\n",
      "Test age_cli_CAT, stat= 2, p = 0.14936642525049731\n",
      "Test pc_appo_CAT, stat= 1, p = 0.9096197761269706\n",
      "Test duree_jour_gestion_CAT, stat= 0, p = 0.9400320842095564\n"
     ]
    }
   ],
   "source": [
    "l = []\n",
    "for col in cat_feats:\n",
    "    l.append(afficher_chi2(col, df))\n",
    "df_tmp = pd.DataFrame(l, columns=['stat', 'p']).sort_values('stat', ascending=False)\n",
    "for name, stat, p in zip(cat_feats, df_tmp['stat'], df_tmp['p']):\n",
    "    print('Test {0}, stat= {1:.0f}, p = {2}'.format(name, stat, p))"
   ]
  },
  {
   "cell_type": "markdown",
   "metadata": {},
   "source": [
    "**IL FAUDRA PENSER A ETUDIER LES VARS QUALI D'ORIGINE**\n",
    "\n",
    "...\n",
    "\n"
   ]
  },
  {
   "cell_type": "markdown",
   "metadata": {},
   "source": [
    "**ANC_EMPLOI_CAT**"
   ]
  },
  {
   "cell_type": "code",
   "execution_count": 358,
   "metadata": {},
   "outputs": [
    {
     "data": {
      "text/html": [
       "<table style=\"display:inline\" border=\"1\" class=\"dataframe\">\n",
       "  <thead>\n",
       "    <tr>\n",
       "      <th></th>\n",
       "      <th>Effectif</th>\n",
       "      <th>Pourcentage</th>\n",
       "    </tr>\n",
       "    <tr>\n",
       "      <th>def12_31</th>\n",
       "      <th>0</th>\n",
       "      <th>0</th>\n",
       "    </tr>\n",
       "    <tr>\n",
       "      <th>ANC_EMPLOI_CAT</th>\n",
       "      <th></th>\n",
       "      <th></th>\n",
       "    </tr>\n",
       "  </thead>\n",
       "  <tbody>\n",
       "    <tr>\n",
       "      <th>(3.0, 246.0]</th>\n",
       "      <td>6305</td>\n",
       "      <td>76.0</td>\n",
       "    </tr>\n",
       "    <tr>\n",
       "      <th>(246.0, 489.0]</th>\n",
       "      <td>1632</td>\n",
       "      <td>20.0</td>\n",
       "    </tr>\n",
       "    <tr>\n",
       "      <th>(489.0, 732.0]</th>\n",
       "      <td>373</td>\n",
       "      <td>4.0</td>\n",
       "    </tr>\n",
       "    <tr>\n",
       "      <th>(732.0, 974.0]</th>\n",
       "      <td>16</td>\n",
       "      <td>0.0</td>\n",
       "    </tr>\n",
       "  </tbody>\n",
       "</table style=\"display:inline\"><table style=\"display:inline\" border=\"1\" class=\"dataframe\">\n",
       "  <thead>\n",
       "    <tr>\n",
       "      <th></th>\n",
       "      <th>Effectif</th>\n",
       "      <th>Pourcentage</th>\n",
       "    </tr>\n",
       "    <tr>\n",
       "      <th>def12_31</th>\n",
       "      <th>1</th>\n",
       "      <th>1</th>\n",
       "    </tr>\n",
       "    <tr>\n",
       "      <th>ANC_EMPLOI_CAT</th>\n",
       "      <th></th>\n",
       "      <th></th>\n",
       "    </tr>\n",
       "  </thead>\n",
       "  <tbody>\n",
       "    <tr>\n",
       "      <th>(3.0, 246.0]</th>\n",
       "      <td>87</td>\n",
       "      <td>92.0</td>\n",
       "    </tr>\n",
       "    <tr>\n",
       "      <th>(246.0, 489.0]</th>\n",
       "      <td>6</td>\n",
       "      <td>6.0</td>\n",
       "    </tr>\n",
       "    <tr>\n",
       "      <th>(489.0, 732.0]</th>\n",
       "      <td>2</td>\n",
       "      <td>2.0</td>\n",
       "    </tr>\n",
       "  </tbody>\n",
       "</table style=\"display:inline\">"
      ]
     },
     "metadata": {},
     "output_type": "display_data"
    }
   ],
   "source": [
    "comparer_cible('ANC_EMPLOI_CAT')"
   ]
  },
  {
   "cell_type": "code",
   "execution_count": null,
   "metadata": {},
   "outputs": [],
   "source": [
    "df['ANC_EMPLOI'] = df['ANC_EMPLOI']/12"
   ]
  },
  {
   "cell_type": "code",
   "execution_count": 363,
   "metadata": {},
   "outputs": [],
   "source": [
    "df['ANC_EMPLOI_CAT2'] = 0\n",
    "df.loc[(df['ANC_EMPLOI']<=5), ['ANC_EMPLOI_CAT2']] = '(0, 5]'\n",
    "df.loc[(df['ANC_EMPLOI']>5) & (df['ANC_EMPLOI']<=10), ['ANC_EMPLOI_CAT2']] = '(5, 10]'\n",
    "df.loc[(df['ANC_EMPLOI']>10) & (df['ANC_EMPLOI']<=20), ['ANC_EMPLOI_CAT2']] = '(10, 20]'\n",
    "df.loc[(df['ANC_EMPLOI']>20), ['ANC_EMPLOI_CAT2']] = '(20, .]'"
   ]
  },
  {
   "cell_type": "code",
   "execution_count": 364,
   "metadata": {},
   "outputs": [
    {
     "data": {
      "text/html": [
       "<table style=\"display:inline\" border=\"1\" class=\"dataframe\">\n",
       "  <thead>\n",
       "    <tr>\n",
       "      <th></th>\n",
       "      <th>Effectif</th>\n",
       "      <th>Pourcentage</th>\n",
       "    </tr>\n",
       "    <tr>\n",
       "      <th>def12_31</th>\n",
       "      <th>0</th>\n",
       "      <th>0</th>\n",
       "    </tr>\n",
       "    <tr>\n",
       "      <th>ANC_EMPLOI_CAT2</th>\n",
       "      <th></th>\n",
       "      <th></th>\n",
       "    </tr>\n",
       "  </thead>\n",
       "  <tbody>\n",
       "    <tr>\n",
       "      <th>(0, 5]</th>\n",
       "      <td>1414</td>\n",
       "      <td>17.0</td>\n",
       "    </tr>\n",
       "    <tr>\n",
       "      <th>(10, 20]</th>\n",
       "      <td>2909</td>\n",
       "      <td>35.0</td>\n",
       "    </tr>\n",
       "    <tr>\n",
       "      <th>(20, .]</th>\n",
       "      <td>2050</td>\n",
       "      <td>25.0</td>\n",
       "    </tr>\n",
       "    <tr>\n",
       "      <th>(5, 10]</th>\n",
       "      <td>1953</td>\n",
       "      <td>23.0</td>\n",
       "    </tr>\n",
       "  </tbody>\n",
       "</table style=\"display:inline\"><table style=\"display:inline\" border=\"1\" class=\"dataframe\">\n",
       "  <thead>\n",
       "    <tr>\n",
       "      <th></th>\n",
       "      <th>Effectif</th>\n",
       "      <th>Pourcentage</th>\n",
       "    </tr>\n",
       "    <tr>\n",
       "      <th>def12_31</th>\n",
       "      <th>1</th>\n",
       "      <th>1</th>\n",
       "    </tr>\n",
       "    <tr>\n",
       "      <th>ANC_EMPLOI_CAT2</th>\n",
       "      <th></th>\n",
       "      <th></th>\n",
       "    </tr>\n",
       "  </thead>\n",
       "  <tbody>\n",
       "    <tr>\n",
       "      <th>(0, 5]</th>\n",
       "      <td>28</td>\n",
       "      <td>29.0</td>\n",
       "    </tr>\n",
       "    <tr>\n",
       "      <th>(10, 20]</th>\n",
       "      <td>31</td>\n",
       "      <td>33.0</td>\n",
       "    </tr>\n",
       "    <tr>\n",
       "      <th>(20, .]</th>\n",
       "      <td>8</td>\n",
       "      <td>8.0</td>\n",
       "    </tr>\n",
       "    <tr>\n",
       "      <th>(5, 10]</th>\n",
       "      <td>28</td>\n",
       "      <td>29.0</td>\n",
       "    </tr>\n",
       "  </tbody>\n",
       "</table style=\"display:inline\">"
      ]
     },
     "metadata": {},
     "output_type": "display_data"
    }
   ],
   "source": [
    "comparer_cible('ANC_EMPLOI_CAT2')"
   ]
  },
  {
   "cell_type": "markdown",
   "metadata": {},
   "source": [
    "La nouvelle répartition est bien plus intéressante. Le pourcentage de très jeunes employés est quasiment le double chez les personnes qui ont fait défaut. \n",
    "On observe une autre grosse différence sur l'intervalle des plus de 20 ans d'ancienneté (3x supérieur chez les non-défaut)\n",
    "\n",
    "\n",
    "**AGE_VEH_CAT**"
   ]
  },
  {
   "cell_type": "code",
   "execution_count": 365,
   "metadata": {},
   "outputs": [
    {
     "data": {
      "text/html": [
       "<table style=\"display:inline\" border=\"1\" class=\"dataframe\">\n",
       "  <thead>\n",
       "    <tr>\n",
       "      <th></th>\n",
       "      <th>Effectif</th>\n",
       "      <th>Pourcentage</th>\n",
       "    </tr>\n",
       "    <tr>\n",
       "      <th>def12_31</th>\n",
       "      <th>0</th>\n",
       "      <th>0</th>\n",
       "    </tr>\n",
       "    <tr>\n",
       "      <th>AGE_VEH_CAT</th>\n",
       "      <th></th>\n",
       "      <th></th>\n",
       "    </tr>\n",
       "  </thead>\n",
       "  <tbody>\n",
       "    <tr>\n",
       "      <th>(-0.0, 25.0]</th>\n",
       "      <td>6925</td>\n",
       "      <td>83.0</td>\n",
       "    </tr>\n",
       "    <tr>\n",
       "      <th>(25.0, 50.0]</th>\n",
       "      <td>963</td>\n",
       "      <td>12.0</td>\n",
       "    </tr>\n",
       "    <tr>\n",
       "      <th>(50.0, 76.0]</th>\n",
       "      <td>374</td>\n",
       "      <td>4.0</td>\n",
       "    </tr>\n",
       "    <tr>\n",
       "      <th>(76.0, 101.0]</th>\n",
       "      <td>64</td>\n",
       "      <td>1.0</td>\n",
       "    </tr>\n",
       "  </tbody>\n",
       "</table style=\"display:inline\"><table style=\"display:inline\" border=\"1\" class=\"dataframe\">\n",
       "  <thead>\n",
       "    <tr>\n",
       "      <th></th>\n",
       "      <th>Effectif</th>\n",
       "      <th>Pourcentage</th>\n",
       "    </tr>\n",
       "    <tr>\n",
       "      <th>def12_31</th>\n",
       "      <th>1</th>\n",
       "      <th>1</th>\n",
       "    </tr>\n",
       "    <tr>\n",
       "      <th>AGE_VEH_CAT</th>\n",
       "      <th></th>\n",
       "      <th></th>\n",
       "    </tr>\n",
       "  </thead>\n",
       "  <tbody>\n",
       "    <tr>\n",
       "      <th>(-0.0, 25.0]</th>\n",
       "      <td>54</td>\n",
       "      <td>57.0</td>\n",
       "    </tr>\n",
       "    <tr>\n",
       "      <th>(25.0, 50.0]</th>\n",
       "      <td>28</td>\n",
       "      <td>29.0</td>\n",
       "    </tr>\n",
       "    <tr>\n",
       "      <th>(50.0, 76.0]</th>\n",
       "      <td>10</td>\n",
       "      <td>11.0</td>\n",
       "    </tr>\n",
       "    <tr>\n",
       "      <th>(76.0, 101.0]</th>\n",
       "      <td>3</td>\n",
       "      <td>3.0</td>\n",
       "    </tr>\n",
       "  </tbody>\n",
       "</table style=\"display:inline\">"
      ]
     },
     "metadata": {},
     "output_type": "display_data"
    }
   ],
   "source": [
    "comparer_cible('AGE_VEH_CAT')"
   ]
  },
  {
   "cell_type": "markdown",
   "metadata": {},
   "source": [
    "On a plusieurs classes qui sont très peu représentée dont il va falloir se débarrasser. "
   ]
  },
  {
   "cell_type": "code",
   "execution_count": 369,
   "metadata": {},
   "outputs": [
    {
     "data": {
      "text/plain": [
       "count    8421.000000\n",
       "mean        9.215414\n",
       "std        18.109856\n",
       "min         0.000000\n",
       "25%         0.000000\n",
       "50%         0.000000\n",
       "75%         8.000000\n",
       "max       101.000000\n",
       "Name: AGE_VEH, dtype: float64"
      ]
     },
     "execution_count": 369,
     "metadata": {},
     "output_type": "execute_result"
    },
    {
     "data": {
      "image/png": "[encoded data removed]",
      "text/plain": [
       "<Figure size 432x288 with 1 Axes>"
      ]
     },
     "metadata": {
      "needs_background": "light"
     },
     "output_type": "display_data"
    }
   ],
   "source": [
    "sns.distplot(df['AGE_VEH']);\n",
    "df['AGE_VEH'].describe()"
   ]
  },
  {
   "cell_type": "code",
   "execution_count": 372,
   "metadata": {},
   "outputs": [],
   "source": [
    "df['AGE_VEH_CAT2'] = 0\n",
    "df.loc[(df['AGE_VEH']==0), ['AGE_VEH_CAT2']] = '0'\n",
    "df.loc[(df['AGE_VEH']>0) & (df['AGE_VEH']<=40), ['AGE_VEH_CAT2']] = '(0,40]'\n",
    "df.loc[(df['AGE_VEH']>40), ['AGE_VEH_CAT2']] = '(40,.]'"
   ]
  },
  {
   "cell_type": "code",
   "execution_count": 373,
   "metadata": {},
   "outputs": [
    {
     "data": {
      "text/html": [
       "<table style=\"display:inline\" border=\"1\" class=\"dataframe\">\n",
       "  <thead>\n",
       "    <tr>\n",
       "      <th></th>\n",
       "      <th>Effectif</th>\n",
       "      <th>Pourcentage</th>\n",
       "    </tr>\n",
       "    <tr>\n",
       "      <th>def12_31</th>\n",
       "      <th>0</th>\n",
       "      <th>0</th>\n",
       "    </tr>\n",
       "    <tr>\n",
       "      <th>AGE_VEH_CAT2</th>\n",
       "      <th></th>\n",
       "      <th></th>\n",
       "    </tr>\n",
       "  </thead>\n",
       "  <tbody>\n",
       "    <tr>\n",
       "      <th>(0,40]</th>\n",
       "      <td>1599</td>\n",
       "      <td>19.0</td>\n",
       "    </tr>\n",
       "    <tr>\n",
       "      <th>(40,.]</th>\n",
       "      <td>785</td>\n",
       "      <td>9.0</td>\n",
       "    </tr>\n",
       "    <tr>\n",
       "      <th>0</th>\n",
       "      <td>5942</td>\n",
       "      <td>71.0</td>\n",
       "    </tr>\n",
       "  </tbody>\n",
       "</table style=\"display:inline\"><table style=\"display:inline\" border=\"1\" class=\"dataframe\">\n",
       "  <thead>\n",
       "    <tr>\n",
       "      <th></th>\n",
       "      <th>Effectif</th>\n",
       "      <th>Pourcentage</th>\n",
       "    </tr>\n",
       "    <tr>\n",
       "      <th>def12_31</th>\n",
       "      <th>1</th>\n",
       "      <th>1</th>\n",
       "    </tr>\n",
       "    <tr>\n",
       "      <th>AGE_VEH_CAT2</th>\n",
       "      <th></th>\n",
       "      <th></th>\n",
       "    </tr>\n",
       "  </thead>\n",
       "  <tbody>\n",
       "    <tr>\n",
       "      <th>(0,40]</th>\n",
       "      <td>28</td>\n",
       "      <td>29.0</td>\n",
       "    </tr>\n",
       "    <tr>\n",
       "      <th>(40,.]</th>\n",
       "      <td>26</td>\n",
       "      <td>27.0</td>\n",
       "    </tr>\n",
       "    <tr>\n",
       "      <th>0</th>\n",
       "      <td>41</td>\n",
       "      <td>43.0</td>\n",
       "    </tr>\n",
       "  </tbody>\n",
       "</table style=\"display:inline\">"
      ]
     },
     "metadata": {},
     "output_type": "display_data"
    }
   ],
   "source": [
    "comparer_cible('AGE_VEH_CAT2')"
   ]
  },
  {
   "cell_type": "markdown",
   "metadata": {},
   "source": [
    "Ce découpage de la variable AGE_VEH_CAT2 est plus intéressant. On a bien 3 classes bien représentées"
   ]
  },
  {
   "cell_type": "markdown",
   "metadata": {},
   "source": [
    "**PRIX_VEH_CAT**"
   ]
  },
  {
   "cell_type": "code",
   "execution_count": 411,
   "metadata": {},
   "outputs": [
    {
     "data": {
      "image/png": "[encoded data removed]",
      "text/plain": [
       "<Figure size 432x288 with 1 Axes>"
      ]
     },
     "metadata": {
      "needs_background": "light"
     },
     "output_type": "display_data"
    }
   ],
   "source": [
    "comparer_2dist('PRIX_VEH', df, 13000)"
   ]
  },
  {
   "cell_type": "code",
   "execution_count": 405,
   "metadata": {},
   "outputs": [],
   "source": [
    "df['PRIX_VEH_CAT2'] = 0\n",
    "df.loc[(df['PRIX_VEH']<=13000), ['PRIX_VEH_CAT2']] = '(0,13000]'\n",
    "df.loc[(df['PRIX_VEH']>13000), ['PRIX_VEH_CAT2']] = '(13000,.]'"
   ]
  },
  {
   "cell_type": "code",
   "execution_count": 406,
   "metadata": {},
   "outputs": [
    {
     "data": {
      "text/html": [
       "<table style=\"display:inline\" border=\"1\" class=\"dataframe\">\n",
       "  <thead>\n",
       "    <tr>\n",
       "      <th></th>\n",
       "      <th>Effectif</th>\n",
       "      <th>Pourcentage</th>\n",
       "    </tr>\n",
       "    <tr>\n",
       "      <th>def12_31</th>\n",
       "      <th>0</th>\n",
       "      <th>0</th>\n",
       "    </tr>\n",
       "    <tr>\n",
       "      <th>PRIX_VEH_CAT2</th>\n",
       "      <th></th>\n",
       "      <th></th>\n",
       "    </tr>\n",
       "  </thead>\n",
       "  <tbody>\n",
       "    <tr>\n",
       "      <th>(0,13000]</th>\n",
       "      <td>1003</td>\n",
       "      <td>12.0</td>\n",
       "    </tr>\n",
       "    <tr>\n",
       "      <th>(13000,.]</th>\n",
       "      <td>7323</td>\n",
       "      <td>88.0</td>\n",
       "    </tr>\n",
       "  </tbody>\n",
       "</table style=\"display:inline\"><table style=\"display:inline\" border=\"1\" class=\"dataframe\">\n",
       "  <thead>\n",
       "    <tr>\n",
       "      <th></th>\n",
       "      <th>Effectif</th>\n",
       "      <th>Pourcentage</th>\n",
       "    </tr>\n",
       "    <tr>\n",
       "      <th>def12_31</th>\n",
       "      <th>1</th>\n",
       "      <th>1</th>\n",
       "    </tr>\n",
       "    <tr>\n",
       "      <th>PRIX_VEH_CAT2</th>\n",
       "      <th></th>\n",
       "      <th></th>\n",
       "    </tr>\n",
       "  </thead>\n",
       "  <tbody>\n",
       "    <tr>\n",
       "      <th>(0,13000]</th>\n",
       "      <td>31</td>\n",
       "      <td>33.0</td>\n",
       "    </tr>\n",
       "    <tr>\n",
       "      <th>(13000,.]</th>\n",
       "      <td>64</td>\n",
       "      <td>67.0</td>\n",
       "    </tr>\n",
       "  </tbody>\n",
       "</table style=\"display:inline\">"
      ]
     },
     "metadata": {},
     "output_type": "display_data"
    }
   ],
   "source": [
    "comparer_cible('PRIX_VEH_CAT2')"
   ]
  },
  {
   "cell_type": "markdown",
   "metadata": {},
   "source": [
    "**MT_APPORT**"
   ]
  },
  {
   "cell_type": "code",
   "execution_count": 416,
   "metadata": {},
   "outputs": [
    {
     "data": {
      "image/png": "[encoded data removed]",
      "text/plain": [
       "<Figure size 432x288 with 1 Axes>"
      ]
     },
     "metadata": {
      "needs_background": "light"
     },
     "output_type": "display_data"
    }
   ],
   "source": [
    "comparer_2dist('MT_APPORT', df, 3000)"
   ]
  },
  {
   "cell_type": "code",
   "execution_count": 417,
   "metadata": {},
   "outputs": [],
   "source": [
    "df['MT_APPORT_CAT2'] = 0\n",
    "df.loc[(df['MT_APPORT']<=3000), ['MT_APPORT_CAT2']] = '(0,3000]'\n",
    "df.loc[(df['MT_APPORT']>3000), ['MT_APPORT_CAT2']] = '(3000,.]'"
   ]
  },
  {
   "cell_type": "code",
   "execution_count": 419,
   "metadata": {},
   "outputs": [
    {
     "data": {
      "text/html": [
       "<table style=\"display:inline\" border=\"1\" class=\"dataframe\">\n",
       "  <thead>\n",
       "    <tr>\n",
       "      <th></th>\n",
       "      <th>Effectif</th>\n",
       "      <th>Pourcentage</th>\n",
       "    </tr>\n",
       "    <tr>\n",
       "      <th>def12_31</th>\n",
       "      <th>0</th>\n",
       "      <th>0</th>\n",
       "    </tr>\n",
       "    <tr>\n",
       "      <th>MT_APPORT_CAT2</th>\n",
       "      <th></th>\n",
       "      <th></th>\n",
       "    </tr>\n",
       "  </thead>\n",
       "  <tbody>\n",
       "    <tr>\n",
       "      <th>(0,3000]</th>\n",
       "      <td>3262</td>\n",
       "      <td>39.0</td>\n",
       "    </tr>\n",
       "    <tr>\n",
       "      <th>(3000,.]</th>\n",
       "      <td>5064</td>\n",
       "      <td>61.0</td>\n",
       "    </tr>\n",
       "  </tbody>\n",
       "</table style=\"display:inline\"><table style=\"display:inline\" border=\"1\" class=\"dataframe\">\n",
       "  <thead>\n",
       "    <tr>\n",
       "      <th></th>\n",
       "      <th>Effectif</th>\n",
       "      <th>Pourcentage</th>\n",
       "    </tr>\n",
       "    <tr>\n",
       "      <th>def12_31</th>\n",
       "      <th>1</th>\n",
       "      <th>1</th>\n",
       "    </tr>\n",
       "    <tr>\n",
       "      <th>MT_APPORT_CAT2</th>\n",
       "      <th></th>\n",
       "      <th></th>\n",
       "    </tr>\n",
       "  </thead>\n",
       "  <tbody>\n",
       "    <tr>\n",
       "      <th>(0,3000]</th>\n",
       "      <td>64</td>\n",
       "      <td>67.0</td>\n",
       "    </tr>\n",
       "    <tr>\n",
       "      <th>(3000,.]</th>\n",
       "      <td>31</td>\n",
       "      <td>33.0</td>\n",
       "    </tr>\n",
       "  </tbody>\n",
       "</table style=\"display:inline\">"
      ]
     },
     "metadata": {},
     "output_type": "display_data"
    }
   ],
   "source": [
    "comparer_cible('MT_APPORT_CAT2')"
   ]
  },
  {
   "cell_type": "markdown",
   "metadata": {},
   "source": [
    "**MT_FINANCE_CAT**"
   ]
  },
  {
   "cell_type": "code",
   "execution_count": 429,
   "metadata": {},
   "outputs": [
    {
     "data": {
      "image/png": "[encoded data removed]",
      "text/plain": [
       "<Figure size 432x288 with 1 Axes>"
      ]
     },
     "metadata": {
      "needs_background": "light"
     },
     "output_type": "display_data"
    }
   ],
   "source": [
    "comparer_2dist('MT_FINANCE', df, 12000); #9000 & "
   ]
  },
  {
   "cell_type": "code",
   "execution_count": 430,
   "metadata": {},
   "outputs": [],
   "source": [
    "df['MT_FINANCE_CAT2']=0\n",
    "df.loc[(df['MT_FINANCE']<=9000), ['MT_FINANCE_CAT2']] = '(0,9000]'\n",
    "df.loc[(df['MT_FINANCE']>9000) & (df['MT_FINANCE']<=12000), ['MT_FINANCE_CAT2']] = '(9000,12000]'\n",
    "df.loc[(df['MT_FINANCE']>12000), ['MT_FINANCE_CAT2']] = '(12000,.]'"
   ]
  },
  {
   "cell_type": "code",
   "execution_count": 432,
   "metadata": {},
   "outputs": [
    {
     "data": {
      "text/html": [
       "<table style=\"display:inline\" border=\"1\" class=\"dataframe\">\n",
       "  <thead>\n",
       "    <tr>\n",
       "      <th></th>\n",
       "      <th>Effectif</th>\n",
       "      <th>Pourcentage</th>\n",
       "    </tr>\n",
       "    <tr>\n",
       "      <th>def12_31</th>\n",
       "      <th>0</th>\n",
       "      <th>0</th>\n",
       "    </tr>\n",
       "    <tr>\n",
       "      <th>MT_FINANCE_CAT2</th>\n",
       "      <th></th>\n",
       "      <th></th>\n",
       "    </tr>\n",
       "  </thead>\n",
       "  <tbody>\n",
       "    <tr>\n",
       "      <th>(0,9000]</th>\n",
       "      <td>1416</td>\n",
       "      <td>17.0</td>\n",
       "    </tr>\n",
       "    <tr>\n",
       "      <th>(12000,.]</th>\n",
       "      <td>4715</td>\n",
       "      <td>57.0</td>\n",
       "    </tr>\n",
       "    <tr>\n",
       "      <th>(9000,12000]</th>\n",
       "      <td>2195</td>\n",
       "      <td>26.0</td>\n",
       "    </tr>\n",
       "  </tbody>\n",
       "</table style=\"display:inline\"><table style=\"display:inline\" border=\"1\" class=\"dataframe\">\n",
       "  <thead>\n",
       "    <tr>\n",
       "      <th></th>\n",
       "      <th>Effectif</th>\n",
       "      <th>Pourcentage</th>\n",
       "    </tr>\n",
       "    <tr>\n",
       "      <th>def12_31</th>\n",
       "      <th>1</th>\n",
       "      <th>1</th>\n",
       "    </tr>\n",
       "    <tr>\n",
       "      <th>MT_FINANCE_CAT2</th>\n",
       "      <th></th>\n",
       "      <th></th>\n",
       "    </tr>\n",
       "  </thead>\n",
       "  <tbody>\n",
       "    <tr>\n",
       "      <th>(0,9000]</th>\n",
       "      <td>21</td>\n",
       "      <td>22.0</td>\n",
       "    </tr>\n",
       "    <tr>\n",
       "      <th>(12000,.]</th>\n",
       "      <td>52</td>\n",
       "      <td>55.0</td>\n",
       "    </tr>\n",
       "    <tr>\n",
       "      <th>(9000,12000]</th>\n",
       "      <td>22</td>\n",
       "      <td>23.0</td>\n",
       "    </tr>\n",
       "  </tbody>\n",
       "</table style=\"display:inline\">"
      ]
     },
     "metadata": {},
     "output_type": "display_data"
    }
   ],
   "source": [
    "comparer_cible('MT_FINANCE_CAT2')"
   ]
  },
  {
   "cell_type": "code",
   "execution_count": 433,
   "metadata": {},
   "outputs": [
    {
     "data": {
      "text/html": [
       "<table style=\"display:inline\" border=\"1\" class=\"dataframe\">\n",
       "  <thead>\n",
       "    <tr>\n",
       "      <th></th>\n",
       "      <th>Effectif</th>\n",
       "      <th>Pourcentage</th>\n",
       "    </tr>\n",
       "    <tr>\n",
       "      <th>def12_31</th>\n",
       "      <th>0</th>\n",
       "      <th>0</th>\n",
       "    </tr>\n",
       "    <tr>\n",
       "      <th>MT_FINANCE_CAT</th>\n",
       "      <th></th>\n",
       "      <th></th>\n",
       "    </tr>\n",
       "  </thead>\n",
       "  <tbody>\n",
       "    <tr>\n",
       "      <th>(3294.0, 17262.0]</th>\n",
       "      <td>6653</td>\n",
       "      <td>80.0</td>\n",
       "    </tr>\n",
       "    <tr>\n",
       "      <th>(17262.0, 31175.0]</th>\n",
       "      <td>1659</td>\n",
       "      <td>20.0</td>\n",
       "    </tr>\n",
       "    <tr>\n",
       "      <th>(31175.0, 45088.0]</th>\n",
       "      <td>13</td>\n",
       "      <td>0.0</td>\n",
       "    </tr>\n",
       "    <tr>\n",
       "      <th>(45088.0, 59000.0]</th>\n",
       "      <td>1</td>\n",
       "      <td>0.0</td>\n",
       "    </tr>\n",
       "  </tbody>\n",
       "</table style=\"display:inline\"><table style=\"display:inline\" border=\"1\" class=\"dataframe\">\n",
       "  <thead>\n",
       "    <tr>\n",
       "      <th></th>\n",
       "      <th>Effectif</th>\n",
       "      <th>Pourcentage</th>\n",
       "    </tr>\n",
       "    <tr>\n",
       "      <th>def12_31</th>\n",
       "      <th>1</th>\n",
       "      <th>1</th>\n",
       "    </tr>\n",
       "    <tr>\n",
       "      <th>MT_FINANCE_CAT</th>\n",
       "      <th></th>\n",
       "      <th></th>\n",
       "    </tr>\n",
       "  </thead>\n",
       "  <tbody>\n",
       "    <tr>\n",
       "      <th>(3294.0, 17262.0]</th>\n",
       "      <td>84</td>\n",
       "      <td>88.0</td>\n",
       "    </tr>\n",
       "    <tr>\n",
       "      <th>(17262.0, 31175.0]</th>\n",
       "      <td>11</td>\n",
       "      <td>12.0</td>\n",
       "    </tr>\n",
       "  </tbody>\n",
       "</table style=\"display:inline\">"
      ]
     },
     "metadata": {},
     "output_type": "display_data"
    }
   ],
   "source": [
    "comparer_cible('MT_FINANCE_CAT')"
   ]
  },
  {
   "cell_type": "markdown",
   "metadata": {},
   "source": [
    "On remarque qu'en dépit de notre manière de découper la variable les deux distributions sont très peu séparable ! Cela concorde avec le test du Chi2 d'indépendance. "
   ]
  },
  {
   "cell_type": "markdown",
   "metadata": {},
   "source": [
    "**VR_BALLON**"
   ]
  },
  {
   "cell_type": "code",
   "execution_count": null,
   "metadata": {},
   "outputs": [],
   "source": []
  },
  {
   "cell_type": "markdown",
   "metadata": {},
   "source": [
    "## Etude variables qualitatives"
   ]
  },
  {
   "cell_type": "markdown",
   "metadata": {},
   "source": [
    "**MARQUE** (Grosse influence d'après le test du Khi2)"
   ]
  },
  {
   "cell_type": "code",
   "execution_count": 58,
   "metadata": {},
   "outputs": [
    {
     "data": {
      "image/png": "[encoded data removed]",
      "text/plain": [
       "<Figure size 1152x216 with 1 Axes>"
      ]
     },
     "metadata": {
      "needs_background": "light"
     },
     "output_type": "display_data"
    }
   ],
   "source": [
    "plt.figure(figsize=(16,3))\n",
    "sns.countplot(df['MARQUE']);"
   ]
  },
  {
   "cell_type": "markdown",
   "metadata": {},
   "source": [
    "## Corrélations entre les features (après)"
   ]
  },
  {
   "cell_type": "code",
   "execution_count": 59,
   "metadata": {},
   "outputs": [
    {
     "data": {
      "text/html": [
       "<div>\n",
       "<style scoped>\n",
       "    .dataframe tbody tr th:only-of-type {\n",
       "        vertical-align: middle;\n",
       "    }\n",
       "\n",
       "    .dataframe tbody tr th {\n",
       "        vertical-align: top;\n",
       "    }\n",
       "\n",
       "    .dataframe thead th {\n",
       "        text-align: right;\n",
       "    }\n",
       "</style>\n",
       "<table border=\"1\" class=\"dataframe\">\n",
       "  <thead>\n",
       "    <tr style=\"text-align: right;\">\n",
       "      <th></th>\n",
       "      <th>ANC_EMPLOI</th>\n",
       "      <th>STITUATION_FAM</th>\n",
       "      <th>MODE_LOGT</th>\n",
       "      <th>AGE_VEH</th>\n",
       "      <th>VN_VO</th>\n",
       "      <th>MARQUE</th>\n",
       "      <th>PRIX_VEH</th>\n",
       "      <th>MT_APPORT</th>\n",
       "      <th>MT_FINANCE</th>\n",
       "      <th>MT_MENS</th>\n",
       "      <th>...</th>\n",
       "      <th>age_cli</th>\n",
       "      <th>anciennete_rci</th>\n",
       "      <th>pc_appo</th>\n",
       "      <th>def12_31</th>\n",
       "      <th>duree_jour_gestion</th>\n",
       "      <th>ANC_EMPLOI_CAT</th>\n",
       "      <th>AGE_VEH_CAT</th>\n",
       "      <th>PRIX_VEH_CAT</th>\n",
       "      <th>MT_APPORT_CAT</th>\n",
       "      <th>MT_FINANCE_CAT</th>\n",
       "    </tr>\n",
       "  </thead>\n",
       "  <tbody>\n",
       "    <tr>\n",
       "      <td>0</td>\n",
       "      <td>65</td>\n",
       "      <td>2</td>\n",
       "      <td>1</td>\n",
       "      <td>0.0</td>\n",
       "      <td>VN</td>\n",
       "      <td>REN</td>\n",
       "      <td>19584.65</td>\n",
       "      <td>0.0</td>\n",
       "      <td>19584.65</td>\n",
       "      <td>95.01</td>\n",
       "      <td>...</td>\n",
       "      <td>28</td>\n",
       "      <td>1</td>\n",
       "      <td>0</td>\n",
       "      <td>0</td>\n",
       "      <td>1838</td>\n",
       "      <td>(0.0, 21.0]</td>\n",
       "      <td>(0,10]</td>\n",
       "      <td>(18000, 21000]</td>\n",
       "      <td>(0, 2000]</td>\n",
       "      <td>(16000, .]</td>\n",
       "    </tr>\n",
       "    <tr>\n",
       "      <td>1</td>\n",
       "      <td>563</td>\n",
       "      <td>11</td>\n",
       "      <td>2</td>\n",
       "      <td>28.0</td>\n",
       "      <td>VO</td>\n",
       "      <td>REN</td>\n",
       "      <td>16995.00</td>\n",
       "      <td>2123.0</td>\n",
       "      <td>14872.00</td>\n",
       "      <td>312.34</td>\n",
       "      <td>...</td>\n",
       "      <td>64</td>\n",
       "      <td>3</td>\n",
       "      <td>12</td>\n",
       "      <td>0</td>\n",
       "      <td>2200</td>\n",
       "      <td>(41.0, 61.0]</td>\n",
       "      <td>(10,.]</td>\n",
       "      <td>(15000, 18000]</td>\n",
       "      <td>(2000, 4000]</td>\n",
       "      <td>(10000, 16000]</td>\n",
       "    </tr>\n",
       "    <tr>\n",
       "      <td>2</td>\n",
       "      <td>107</td>\n",
       "      <td>2</td>\n",
       "      <td>2</td>\n",
       "      <td>16.0</td>\n",
       "      <td>VO</td>\n",
       "      <td>REN</td>\n",
       "      <td>19950.00</td>\n",
       "      <td>3869.0</td>\n",
       "      <td>16081.00</td>\n",
       "      <td>329.93</td>\n",
       "      <td>...</td>\n",
       "      <td>51</td>\n",
       "      <td>3</td>\n",
       "      <td>19</td>\n",
       "      <td>0</td>\n",
       "      <td>1833</td>\n",
       "      <td>(0.0, 21.0]</td>\n",
       "      <td>(10,.]</td>\n",
       "      <td>(18000, 21000]</td>\n",
       "      <td>(2000, 4000]</td>\n",
       "      <td>(16000, .]</td>\n",
       "    </tr>\n",
       "    <tr>\n",
       "      <td>3</td>\n",
       "      <td>143</td>\n",
       "      <td>2</td>\n",
       "      <td>2</td>\n",
       "      <td>10.0</td>\n",
       "      <td>VO</td>\n",
       "      <td>REN</td>\n",
       "      <td>17500.00</td>\n",
       "      <td>7143.5</td>\n",
       "      <td>10356.50</td>\n",
       "      <td>217.51</td>\n",
       "      <td>...</td>\n",
       "      <td>42</td>\n",
       "      <td>4</td>\n",
       "      <td>41</td>\n",
       "      <td>0</td>\n",
       "      <td>1837</td>\n",
       "      <td>(0.0, 21.0]</td>\n",
       "      <td>(0,10]</td>\n",
       "      <td>(15000, 18000]</td>\n",
       "      <td>(7000, .]</td>\n",
       "      <td>(10000, 13000]</td>\n",
       "    </tr>\n",
       "    <tr>\n",
       "      <td>4</td>\n",
       "      <td>110</td>\n",
       "      <td>2</td>\n",
       "      <td>NaN</td>\n",
       "      <td>7.0</td>\n",
       "      <td>VO</td>\n",
       "      <td>REN</td>\n",
       "      <td>19740.00</td>\n",
       "      <td>3789.4</td>\n",
       "      <td>15950.60</td>\n",
       "      <td>310.33</td>\n",
       "      <td>...</td>\n",
       "      <td>34</td>\n",
       "      <td>4</td>\n",
       "      <td>19</td>\n",
       "      <td>0</td>\n",
       "      <td>1839</td>\n",
       "      <td>(0.0, 21.0]</td>\n",
       "      <td>(0,10]</td>\n",
       "      <td>(18000, 21000]</td>\n",
       "      <td>(2000, 4000]</td>\n",
       "      <td>(10000, 16000]</td>\n",
       "    </tr>\n",
       "  </tbody>\n",
       "</table>\n",
       "<p>5 rows × 25 columns</p>\n",
       "</div>"
      ],
      "text/plain": [
       "   ANC_EMPLOI STITUATION_FAM MODE_LOGT  AGE_VEH VN_VO MARQUE  PRIX_VEH  \\\n",
       "0          65              2         1      0.0    VN    REN  19584.65   \n",
       "1         563             11         2     28.0    VO    REN  16995.00   \n",
       "2         107              2         2     16.0    VO    REN  19950.00   \n",
       "3         143              2         2     10.0    VO    REN  17500.00   \n",
       "4         110              2       NaN      7.0    VO    REN  19740.00   \n",
       "\n",
       "   MT_APPORT  MT_FINANCE  MT_MENS  ...  age_cli  anciennete_rci  pc_appo  \\\n",
       "0        0.0    19584.65    95.01  ...       28               1        0   \n",
       "1     2123.0    14872.00   312.34  ...       64               3       12   \n",
       "2     3869.0    16081.00   329.93  ...       51               3       19   \n",
       "3     7143.5    10356.50   217.51  ...       42               4       41   \n",
       "4     3789.4    15950.60   310.33  ...       34               4       19   \n",
       "\n",
       "   def12_31 duree_jour_gestion  ANC_EMPLOI_CAT AGE_VEH_CAT    PRIX_VEH_CAT  \\\n",
       "0         0               1838     (0.0, 21.0]      (0,10]  (18000, 21000]   \n",
       "1         0               2200    (41.0, 61.0]      (10,.]  (15000, 18000]   \n",
       "2         0               1833     (0.0, 21.0]      (10,.]  (18000, 21000]   \n",
       "3         0               1837     (0.0, 21.0]      (0,10]  (15000, 18000]   \n",
       "4         0               1839     (0.0, 21.0]      (0,10]  (18000, 21000]   \n",
       "\n",
       "  MT_APPORT_CAT  MT_FINANCE_CAT  \n",
       "0     (0, 2000]      (16000, .]  \n",
       "1  (2000, 4000]  (10000, 16000]  \n",
       "2  (2000, 4000]      (16000, .]  \n",
       "3     (7000, .]  (10000, 13000]  \n",
       "4  (2000, 4000]  (10000, 16000]  \n",
       "\n",
       "[5 rows x 25 columns]"
      ]
     },
     "execution_count": 59,
     "metadata": {},
     "output_type": "execute_result"
    }
   ],
   "source": [
    "df.head()"
   ]
  },
  {
   "cell_type": "code",
   "execution_count": 60,
   "metadata": {},
   "outputs": [
    {
     "data": {
      "text/plain": [
       "''"
      ]
     },
     "execution_count": 60,
     "metadata": {},
     "output_type": "execute_result"
    },
    {
     "data": {
      "image/png": "[encoded data removed]",
      "text/plain": [
       "<Figure size 648x576 with 2 Axes>"
      ]
     },
     "metadata": {
      "needs_background": "light"
     },
     "output_type": "display_data"
    }
   ],
   "source": [
    "num_feats = df.dtypes[df.dtypes != 'category'].index\n",
    "corrmat = df.corr()\n",
    "f, ax = plt.subplots(figsize=(9, 8))\n",
    "sns.heatmap(corrmat, annot=True, linewidths=.5, ax=ax) #fmt=\"d\",\n",
    ";"
   ]
  },
  {
   "cell_type": "code",
   "execution_count": 61,
   "metadata": {},
   "outputs": [
    {
     "data": {
      "text/plain": [
       "['ANC_EMPLOI',\n",
       " 'AGE_VEH',\n",
       " 'PRIX_VEH',\n",
       " 'MT_APPORT',\n",
       " 'MT_FINANCE',\n",
       " 'MT_MENS',\n",
       " 'VR_BALLON',\n",
       " 'DUREE_CONTRAT',\n",
       " 'MT_PREST',\n",
       " 'MT_ASSUR',\n",
       " 'mois_gestion',\n",
       " 'age_cli',\n",
       " 'pc_appo',\n",
       " 'duree_jour_gestion']"
      ]
     },
     "execution_count": 61,
     "metadata": {},
     "output_type": "execute_result"
    }
   ],
   "source": [
    "list(df.dtypes[df.dtypes != 'category'].index)"
   ]
  }
 ],
 "metadata": {
  "kernelspec": {
   "display_name": "Python 3",
   "language": "python",
   "name": "python3"
  },
  "language_info": {
   "codemirror_mode": {
    "name": "ipython",
    "version": 3
   },
   "file_extension": ".py",
   "mimetype": "text/x-python",
   "name": "python",
   "nbconvert_exporter": "python",
   "pygments_lexer": "ipython3",
   "version": "3.7.4"
  }
 },
 "nbformat": 4,
 "nbformat_minor": 2
}
